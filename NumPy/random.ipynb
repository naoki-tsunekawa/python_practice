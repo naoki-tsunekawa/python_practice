{
 "cells": [
  {
   "cell_type": "markdown",
   "id": "61b58231-5a52-439c-8e1b-47e17974c0f1",
   "metadata": {},
   "source": [
    "## np.randomを使って乱数生成"
   ]
  },
  {
   "cell_type": "code",
   "execution_count": 1,
   "id": "fffd0aec-7abc-47b3-be0e-f5ad55ce404f",
   "metadata": {},
   "outputs": [],
   "source": [
    "import numpy as np"
   ]
  },
  {
   "cell_type": "markdown",
   "id": "eaf40949-a52b-453b-a69b-36231be4218c",
   "metadata": {},
   "source": [
    "### np.random.rand()"
   ]
  },
  {
   "cell_type": "code",
   "execution_count": 7,
   "id": "ddacc870-f14f-40ec-bd78-dbdda0742390",
   "metadata": {},
   "outputs": [
    {
     "data": {
      "text/plain": [
       "array([[0.17554546, 0.39143012, 0.52574702, 0.15033728],\n",
       "       [0.27259531, 0.96332419, 0.70503985, 0.10866569],\n",
       "       [0.07677691, 0.73690336, 0.16649326, 0.70730071]])"
      ]
     },
     "execution_count": 7,
     "metadata": {},
     "output_type": "execute_result"
    }
   ],
   "source": [
    "## 擬似乱数 pseudo random\n",
    "np.random.rand(3, 4)"
   ]
  },
  {
   "cell_type": "markdown",
   "id": "0a28b502-08d4-4542-9210-914d3c9e71b9",
   "metadata": {},
   "source": [
    "### np.random.seed"
   ]
  },
  {
   "cell_type": "code",
   "execution_count": 10,
   "id": "a3d9874f-c838-449c-9cb0-a6cfda3d279d",
   "metadata": {},
   "outputs": [
    {
     "data": {
      "text/plain": [
       "0.417022004702574"
      ]
     },
     "execution_count": 10,
     "metadata": {},
     "output_type": "execute_result"
    }
   ],
   "source": [
    "np.random.seed(1)\n",
    "np.random.rand()"
   ]
  },
  {
   "cell_type": "markdown",
   "id": "6e5d4c05-671d-4020-accd-976ab35194e7",
   "metadata": {},
   "source": [
    "#### データサイエンスでは再現させることができるように乱数生成にはなるべくseedを使う"
   ]
  },
  {
   "cell_type": "code",
   "execution_count": 11,
   "id": "af76a2ef-60bf-49c9-9174-4a214b2425db",
   "metadata": {},
   "outputs": [
    {
     "data": {
      "text/plain": [
       "0.7203244934421581"
      ]
     },
     "execution_count": 11,
     "metadata": {},
     "output_type": "execute_result"
    }
   ],
   "source": [
    "np.random.rand()"
   ]
  },
  {
   "cell_type": "markdown",
   "id": "7193ca19-dd7d-4578-8e87-40388bd01e5b",
   "metadata": {},
   "source": [
    "#### jupyterlabでは２回目のnp.random.rand()をするとランダムに乱数を生成するので注意"
   ]
  },
  {
   "cell_type": "markdown",
   "id": "e58f9ddd-0ecb-4197-b193-0a683667819c",
   "metadata": {},
   "source": [
    "## 正規分布\n",
    "## np.random.randn()"
   ]
  },
  {
   "cell_type": "markdown",
   "id": "9c63e4c5-0d3e-49d9-aa62-d8cc1f94cc2a",
   "metadata": {},
   "source": [
    "#### 平均が0 分散が1の時 「標準正規分布」　という"
   ]
  },
  {
   "cell_type": "code",
   "execution_count": 18,
   "id": "89e19cd5-fe94-4457-974d-108919ea5a5c",
   "metadata": {},
   "outputs": [
    {
     "data": {
      "text/plain": [
       "0.31903909605709857"
      ]
     },
     "execution_count": 18,
     "metadata": {},
     "output_type": "execute_result"
    }
   ],
   "source": [
    "np.random.randn()"
   ]
  },
  {
   "cell_type": "markdown",
   "id": "c974718e-cf00-4a70-9dac-1d1559aae539",
   "metadata": {},
   "source": [
    "#### np.random.randn()\n",
    "#### 標準正規分布(平均0, 分散1)からランダムの値が返される"
   ]
  },
  {
   "cell_type": "code",
   "execution_count": 19,
   "id": "aec29659-dddc-484e-80c7-9fa41948242d",
   "metadata": {},
   "outputs": [
    {
     "data": {
      "text/plain": [
       "array([[-0.24937038,  1.46210794, -2.06014071, -0.3224172 , -0.38405435,\n",
       "         1.13376944, -1.09989127, -0.17242821, -0.87785842,  0.04221375],\n",
       "       [ 0.58281521, -1.10061918,  1.14472371,  0.90159072,  0.50249434,\n",
       "         0.90085595, -0.68372786, -0.12289023, -0.93576943, -0.26788808],\n",
       "       [ 0.53035547, -0.69166075, -0.39675353, -0.6871727 , -0.84520564,\n",
       "        -0.67124613, -0.0126646 , -1.11731035,  0.2344157 ,  1.65980218],\n",
       "       [ 0.74204416, -0.19183555, -0.88762896, -0.74715829,  1.6924546 ,\n",
       "         0.05080775, -0.63699565,  0.19091548,  2.10025514,  0.12015895],\n",
       "       [ 0.61720311,  0.30017032, -0.35224985, -1.1425182 , -0.34934272,\n",
       "        -0.20889423,  0.58662319,  0.83898341,  0.93110208,  0.28558733],\n",
       "       [ 0.88514116, -0.75439794,  1.25286816,  0.51292982, -0.29809284,\n",
       "         0.48851815, -0.07557171,  1.13162939,  1.51981682,  2.18557541],\n",
       "       [-1.39649634, -1.44411381, -0.50446586,  0.16003707,  0.87616892,\n",
       "         0.31563495, -2.02220122, -0.30620401,  0.82797464,  0.23009474],\n",
       "       [ 0.76201118, -0.22232814, -0.20075807,  0.18656139,  0.41005165,\n",
       "         0.19829972,  0.11900865, -0.67066229,  0.37756379,  0.12182127],\n",
       "       [ 1.12948391,  1.19891788,  0.18515642, -0.37528495, -0.63873041,\n",
       "         0.42349435,  0.07734007, -0.34385368,  0.04359686, -0.62000084],\n",
       "       [ 0.69803203, -0.44712856,  1.2245077 ,  0.40349164,  0.59357852,\n",
       "        -1.09491185,  0.16938243,  0.74055645, -0.9537006 , -0.26621851]])"
      ]
     },
     "execution_count": 19,
     "metadata": {},
     "output_type": "execute_result"
    }
   ],
   "source": [
    "np.random.randn(10, 10)"
   ]
  },
  {
   "cell_type": "markdown",
   "id": "ad513ea6-319e-4b68-83e6-0c1599ecf968",
   "metadata": {},
   "source": [
    "## np.random.normal()"
   ]
  },
  {
   "cell_type": "code",
   "execution_count": 20,
   "id": "933b2462-a78f-4b6d-ab74-d25483db2018",
   "metadata": {},
   "outputs": [
    {
     "data": {
      "text/plain": [
       "10.032614546693358"
      ]
     },
     "execution_count": 20,
     "metadata": {},
     "output_type": "execute_result"
    }
   ],
   "source": [
    "np.random.normal(10, 1)"
   ]
  },
  {
   "cell_type": "markdown",
   "id": "a78c648a-330e-4771-aaf3-47e49171858d",
   "metadata": {},
   "source": [
    "## np.random.randint()"
   ]
  },
  {
   "cell_type": "code",
   "execution_count": 24,
   "id": "531540c6-e262-4996-abc8-4ca185326e48",
   "metadata": {},
   "outputs": [
    {
     "data": {
      "text/plain": [
       "array([[93, 48, 57],\n",
       "       [15, 89, 73]])"
      ]
     },
     "execution_count": 24,
     "metadata": {},
     "output_type": "execute_result"
    }
   ],
   "source": [
    "np.random.randint(10, 100, (2, 3))"
   ]
  },
  {
   "cell_type": "code",
   "execution_count": 34,
   "id": "15c322d4-c449-4562-b645-c5459a13a0f8",
   "metadata": {},
   "outputs": [
    {
     "data": {
      "text/plain": [
       "4"
      ]
     },
     "execution_count": 34,
     "metadata": {},
     "output_type": "execute_result"
    }
   ],
   "source": [
    "np.random.randint(10)"
   ]
  },
  {
   "cell_type": "markdown",
   "id": "132458fb-790f-47b3-927c-d962a5052069",
   "metadata": {},
   "source": [
    "## np.random.choice()"
   ]
  },
  {
   "cell_type": "code",
   "execution_count": 35,
   "id": "f6a95332-7799-4045-be4b-9b798e15b67b",
   "metadata": {},
   "outputs": [
    {
     "data": {
      "text/plain": [
       "3"
      ]
     },
     "execution_count": 35,
     "metadata": {},
     "output_type": "execute_result"
    }
   ],
   "source": [
    "a = [1, 2, 3]\n",
    "np.random.choice(a)"
   ]
  },
  {
   "cell_type": "code",
   "execution_count": 38,
   "id": "2480417e-aeb2-404c-851c-48d3ed34d16c",
   "metadata": {},
   "outputs": [
    {
     "data": {
      "text/plain": [
       "array([0, 2, 4, 6, 8])"
      ]
     },
     "execution_count": 38,
     "metadata": {},
     "output_type": "execute_result"
    }
   ],
   "source": [
    "index_pool = np.arange(0, 10, 2)\n",
    "index_pool"
   ]
  },
  {
   "cell_type": "code",
   "execution_count": 43,
   "id": "0e3db57b-9ec7-48e4-b8f5-71c0711093f8",
   "metadata": {},
   "outputs": [
    {
     "data": {
      "text/plain": [
       "8"
      ]
     },
     "execution_count": 43,
     "metadata": {},
     "output_type": "execute_result"
    }
   ],
   "source": [
    "np.random.choice(index_pool)"
   ]
  }
 ],
 "metadata": {
  "kernelspec": {
   "display_name": "Python 3",
   "language": "python",
   "name": "python3"
  },
  "language_info": {
   "codemirror_mode": {
    "name": "ipython",
    "version": 3
   },
   "file_extension": ".py",
   "mimetype": "text/x-python",
   "name": "python",
   "nbconvert_exporter": "python",
   "pygments_lexer": "ipython3",
   "version": "3.8.8"
  }
 },
 "nbformat": 4,
 "nbformat_minor": 5
}
