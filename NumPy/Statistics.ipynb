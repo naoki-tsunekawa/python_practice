{
 "cells": [
  {
   "cell_type": "markdown",
   "id": "7fbd281a-2fd2-469b-bbfa-cf91ad993201",
   "metadata": {},
   "source": [
    "## 統計量を求める"
   ]
  },
  {
   "cell_type": "code",
   "execution_count": 1,
   "id": "c53bf20e-e6d0-4a2c-81b3-2e6a8fd52cab",
   "metadata": {},
   "outputs": [],
   "source": [
    "import numpy as np"
   ]
  },
  {
   "cell_type": "code",
   "execution_count": 2,
   "id": "62da43de-439c-4bd4-9647-162d35f0a8c3",
   "metadata": {},
   "outputs": [
    {
     "data": {
      "text/plain": [
       "array([[ 1.56662941,  0.05507619,  1.35697191,  0.18635903,  2.06180451],\n",
       "       [-0.16502859,  0.20061908, -0.7789759 ,  1.29841482, -0.20727353],\n",
       "       [-0.50124824, -1.99441175, -0.17178848, -0.41228614,  0.33987809],\n",
       "       [ 1.87937471,  0.54483384, -0.00414291, -1.26655719, -1.17740552],\n",
       "       [-0.36110154,  1.47147818, -0.14550529, -2.097606  , -0.3574902 ]])"
      ]
     },
     "execution_count": 2,
     "metadata": {},
     "output_type": "execute_result"
    }
   ],
   "source": [
    "std_norm = np.random.randn(5, 5)\n",
    "std_norm"
   ]
  },
  {
   "cell_type": "code",
   "execution_count": 3,
   "id": "359f4e5e-7294-4d32-8356-971fddc50ecc",
   "metadata": {},
   "outputs": [
    {
     "data": {
      "text/plain": [
       "2.061804513368536"
      ]
     },
     "execution_count": 3,
     "metadata": {},
     "output_type": "execute_result"
    }
   ],
   "source": [
    "# 最大量\n",
    "std_norm.max()"
   ]
  },
  {
   "cell_type": "code",
   "execution_count": 4,
   "id": "ec822ff4-2f57-43e4-8e3e-bfa0b839413c",
   "metadata": {},
   "outputs": [
    {
     "data": {
      "text/plain": [
       "2.061804513368536"
      ]
     },
     "execution_count": 4,
     "metadata": {},
     "output_type": "execute_result"
    }
   ],
   "source": [
    "np.max(std_norm)"
   ]
  },
  {
   "cell_type": "code",
   "execution_count": 5,
   "id": "7c743e2c-66ca-470f-9805-a662338d7bfb",
   "metadata": {},
   "outputs": [
    {
     "data": {
      "text/plain": [
       "-2.0976059991520866"
      ]
     },
     "execution_count": 5,
     "metadata": {},
     "output_type": "execute_result"
    }
   ],
   "source": [
    "# 最小値\n",
    "std_norm.min()"
   ]
  },
  {
   "cell_type": "code",
   "execution_count": 6,
   "id": "f6385bff-1f90-401b-8357-7b677e294d71",
   "metadata": {},
   "outputs": [
    {
     "data": {
      "text/plain": [
       "4"
      ]
     },
     "execution_count": 6,
     "metadata": {},
     "output_type": "execute_result"
    }
   ],
   "source": [
    "# 最大値のindexを取得\n",
    "std_norm.argmax()"
   ]
  },
  {
   "cell_type": "code",
   "execution_count": 7,
   "id": "4d07f096-3807-4242-8d13-7c2c85860485",
   "metadata": {},
   "outputs": [
    {
     "data": {
      "text/plain": [
       "2.061804513368536"
      ]
     },
     "execution_count": 7,
     "metadata": {},
     "output_type": "execute_result"
    }
   ],
   "source": [
    "std_norm.flatten()[4]"
   ]
  },
  {
   "cell_type": "code",
   "execution_count": 8,
   "id": "8c3270e8-e00c-4fb9-ad85-7cd82e8deeeb",
   "metadata": {},
   "outputs": [
    {
     "data": {
      "text/plain": [
       "23"
      ]
     },
     "execution_count": 8,
     "metadata": {},
     "output_type": "execute_result"
    }
   ],
   "source": [
    "# 最小値のindexを取得\n",
    "std_norm.argmin()"
   ]
  },
  {
   "cell_type": "code",
   "execution_count": 9,
   "id": "784f95b4-d343-43fe-8770-d455b7c94dab",
   "metadata": {},
   "outputs": [
    {
     "data": {
      "text/plain": [
       "-2.0976059991520866"
      ]
     },
     "execution_count": 9,
     "metadata": {},
     "output_type": "execute_result"
    }
   ],
   "source": [
    "std_norm.flatten()[23]"
   ]
  },
  {
   "cell_type": "code",
   "execution_count": 10,
   "id": "ff981d8c-2299-4ac7-be20-1a7308a2930d",
   "metadata": {},
   "outputs": [
    {
     "data": {
      "text/plain": [
       "0.05282473986926093"
      ]
     },
     "execution_count": 10,
     "metadata": {},
     "output_type": "execute_result"
    }
   ],
   "source": [
    "# 平均を取得\n",
    "std_norm.mean()"
   ]
  },
  {
   "cell_type": "code",
   "execution_count": 12,
   "id": "74c4e562-10a6-41a3-bc88-d49e1508b054",
   "metadata": {},
   "outputs": [
    {
     "data": {
      "text/plain": [
       "-0.145505285476558"
      ]
     },
     "execution_count": 12,
     "metadata": {},
     "output_type": "execute_result"
    }
   ],
   "source": [
    "# 中央値を取得 （注意）\n",
    "np.median(std_norm)"
   ]
  },
  {
   "cell_type": "markdown",
   "id": "cb6ae916-ff04-494f-ba29-3c37c9539bed",
   "metadata": {},
   "source": [
    "#### 中央値は平均値をより求める時間がかかる\n",
    "#### 中央値は並び替える必要があるためデータが多くなれななるほど時間がかかる\n",
    "#### はずれ値には強い"
   ]
  },
  {
   "cell_type": "code",
   "execution_count": 16,
   "id": "f1f18ad0-640f-4b19-9b5b-087bcee0281c",
   "metadata": {},
   "outputs": [
    {
     "name": "stdout",
     "output_type": "stream",
     "text": [
      "median took 0.02637791633605957 sec\n",
      "mean took 0.0016334056854248047 sec\n"
     ]
    }
   ],
   "source": [
    "# 中央値 vs 平均値\n",
    "import time\n",
    "a = np.random.randn(1000, 1000)\n",
    "before = time.time()\n",
    "np.median(a)\n",
    "after_median = time.time()\n",
    "np.mean(a)\n",
    "after_mean = time.time()\n",
    "print('median took {} sec'.format(after_median - before))\n",
    "print('mean took {} sec'.format(after_mean - after_median))"
   ]
  },
  {
   "cell_type": "code",
   "execution_count": 17,
   "id": "fb36d555-9001-4272-9b53-33efadd8a849",
   "metadata": {},
   "outputs": [
    {
     "data": {
      "text/plain": [
       "1.079365205521851"
      ]
     },
     "execution_count": 17,
     "metadata": {},
     "output_type": "execute_result"
    }
   ],
   "source": [
    "# 標準偏差の取得\n",
    "np.std(std_norm)"
   ]
  },
  {
   "cell_type": "code",
   "execution_count": 21,
   "id": "381e9334-f5a3-423b-812c-cb62802cd2f3",
   "metadata": {},
   "outputs": [
    {
     "data": {
      "text/plain": [
       "array([1.87937471, 1.47147818, 1.35697191, 1.29841482, 2.06180451])"
      ]
     },
     "execution_count": 21,
     "metadata": {},
     "output_type": "execute_result"
    }
   ],
   "source": [
    "# 列ごと\n",
    "std_norm.max(axis=0)"
   ]
  },
  {
   "cell_type": "code",
   "execution_count": 22,
   "id": "c7a09bb4-1301-452e-a593-6fead1c37980",
   "metadata": {},
   "outputs": [
    {
     "data": {
      "text/plain": [
       "array([2.06180451, 1.29841482, 0.33987809, 1.87937471, 1.47147818])"
      ]
     },
     "execution_count": 22,
     "metadata": {},
     "output_type": "execute_result"
    }
   ],
   "source": [
    "# 行ごと\n",
    "std_norm.max(axis=1)"
   ]
  },
  {
   "cell_type": "markdown",
   "id": "d9217096-d834-4451-8635-e7e5a931801e",
   "metadata": {},
   "source": [
    "#### axisを使うことで列、行ごとで最大の統計量を求めることができる"
   ]
  }
 ],
 "metadata": {
  "kernelspec": {
   "display_name": "Python 3",
   "language": "python",
   "name": "python3"
  },
  "language_info": {
   "codemirror_mode": {
    "name": "ipython",
    "version": 3
   },
   "file_extension": ".py",
   "mimetype": "text/x-python",
   "name": "python",
   "nbconvert_exporter": "python",
   "pygments_lexer": "ipython3",
   "version": "3.8.8"
  }
 },
 "nbformat": 4,
 "nbformat_minor": 5
}
