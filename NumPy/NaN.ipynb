{
 "cells": [
  {
   "cell_type": "markdown",
   "id": "2f50e18d-1ff3-47bd-be4a-838db7328649",
   "metadata": {},
   "source": [
    "## np.nan と np.isnan()"
   ]
  },
  {
   "cell_type": "code",
   "execution_count": 1,
   "id": "da4f6479-45f5-4b42-882d-35878621ae7e",
   "metadata": {},
   "outputs": [],
   "source": [
    "import numpy as np"
   ]
  },
  {
   "cell_type": "code",
   "execution_count": 2,
   "id": "90216a5c-2285-4bb9-b731-ed61d1c81fde",
   "metadata": {},
   "outputs": [],
   "source": [
    "# NaN : Not a Number"
   ]
  },
  {
   "cell_type": "code",
   "execution_count": 3,
   "id": "c2563db6-a291-4336-8022-a78732e3f44d",
   "metadata": {},
   "outputs": [
    {
     "name": "stderr",
     "output_type": "stream",
     "text": [
      "<ipython-input-3-7f9ccaa0a7b1>:1: RuntimeWarning: invalid value encountered in log\n",
      "  np.log(-100)\n"
     ]
    },
    {
     "data": {
      "text/plain": [
       "nan"
      ]
     },
     "execution_count": 3,
     "metadata": {},
     "output_type": "execute_result"
    }
   ],
   "source": [
    "np.log(-100)"
   ]
  },
  {
   "cell_type": "code",
   "execution_count": 4,
   "id": "e842b502-5650-4f54-88b9-ec49088ab0bb",
   "metadata": {},
   "outputs": [
    {
     "data": {
      "text/plain": [
       "float"
      ]
     },
     "execution_count": 4,
     "metadata": {},
     "output_type": "execute_result"
    }
   ],
   "source": [
    "type(np.nan)"
   ]
  },
  {
   "cell_type": "code",
   "execution_count": 5,
   "id": "8e390aca-c013-48be-a222-a575cf18e903",
   "metadata": {},
   "outputs": [
    {
     "data": {
      "text/plain": [
       "True"
      ]
     },
     "execution_count": 5,
     "metadata": {},
     "output_type": "execute_result"
    }
   ],
   "source": [
    "a = None\n",
    "a is None"
   ]
  },
  {
   "cell_type": "code",
   "execution_count": 7,
   "id": "50884de2-582b-4348-96f4-424b1abe04d2",
   "metadata": {},
   "outputs": [
    {
     "name": "stderr",
     "output_type": "stream",
     "text": [
      "<ipython-input-7-997525166556>:1: RuntimeWarning: invalid value encountered in log\n",
      "  np.isnan(np.log(-100))\n"
     ]
    },
    {
     "data": {
      "text/plain": [
       "True"
      ]
     },
     "execution_count": 7,
     "metadata": {},
     "output_type": "execute_result"
    }
   ],
   "source": [
    "np.isnan(np.log(-100))"
   ]
  },
  {
   "cell_type": "code",
   "execution_count": 8,
   "id": "217d144f-1693-4580-a6f7-a10ed1ef376b",
   "metadata": {},
   "outputs": [
    {
     "name": "stderr",
     "output_type": "stream",
     "text": [
      "<ipython-input-8-35ac7eb77702>:1: RuntimeWarning: invalid value encountered in log\n",
      "  np.log(-100) is np.nan\n"
     ]
    },
    {
     "data": {
      "text/plain": [
       "False"
      ]
     },
     "execution_count": 8,
     "metadata": {},
     "output_type": "execute_result"
    }
   ],
   "source": [
    "np.log(-100) is np.nan"
   ]
  },
  {
   "cell_type": "code",
   "execution_count": 9,
   "id": "95b4f607-8df3-4a4e-8c1f-00a57b9a1887",
   "metadata": {},
   "outputs": [
    {
     "name": "stderr",
     "output_type": "stream",
     "text": [
      "<ipython-input-9-977bf82272dd>:1: RuntimeWarning: invalid value encountered in log\n",
      "  np.log(-100) == np.nan\n"
     ]
    },
    {
     "data": {
      "text/plain": [
       "False"
      ]
     },
     "execution_count": 9,
     "metadata": {},
     "output_type": "execute_result"
    }
   ],
   "source": [
    "np.log(-100) == np.nan"
   ]
  }
 ],
 "metadata": {
  "kernelspec": {
   "display_name": "Python 3",
   "language": "python",
   "name": "python3"
  },
  "language_info": {
   "codemirror_mode": {
    "name": "ipython",
    "version": 3
   },
   "file_extension": ".py",
   "mimetype": "text/x-python",
   "name": "python",
   "nbconvert_exporter": "python",
   "pygments_lexer": "ipython3",
   "version": "3.8.8"
  }
 },
 "nbformat": 4,
 "nbformat_minor": 5
}
