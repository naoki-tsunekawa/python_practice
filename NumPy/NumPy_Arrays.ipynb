{
 "cells": [
  {
   "cell_type": "markdown",
   "id": "90238157-9d3b-4da1-8913-9b7cf31a14e6",
   "metadata": {},
   "source": [
    "## NumPy Arrays (ndarray)"
   ]
  },
  {
   "cell_type": "code",
   "execution_count": 1,
   "id": "076aee62-78eb-4bc6-850a-872a5ff1abae",
   "metadata": {},
   "outputs": [],
   "source": [
    "import numpy as np"
   ]
  },
  {
   "cell_type": "code",
   "execution_count": 3,
   "id": "3ab9feb5-8a60-4af6-8705-dceb5fe269de",
   "metadata": {},
   "outputs": [
    {
     "data": {
      "text/plain": [
       "array([1, 2, 3])"
      ]
     },
     "execution_count": 3,
     "metadata": {},
     "output_type": "execute_result"
    }
   ],
   "source": [
    "np.array([1,2,3])"
   ]
  },
  {
   "cell_type": "code",
   "execution_count": 8,
   "id": "66b57bd4-78b1-487d-b45d-c2c270b75f0e",
   "metadata": {},
   "outputs": [
    {
     "data": {
      "text/plain": [
       "array([[1, 2, 3],\n",
       "       [4, 5, 6],\n",
       "       [7, 8, 9]])"
      ]
     },
     "execution_count": 8,
     "metadata": {},
     "output_type": "execute_result"
    }
   ],
   "source": [
    "np.array([[1, 2, 3], [4, 5, 6], [7, 8, 9]])"
   ]
  },
  {
   "cell_type": "code",
   "execution_count": 9,
   "id": "b4cc78fe-cbf3-43b7-8979-63c63b719564",
   "metadata": {},
   "outputs": [],
   "source": [
    "matrix = np.array([[1, 2, 3], [4, 5, 6], [7, 8, 9]])"
   ]
  },
  {
   "cell_type": "code",
   "execution_count": 10,
   "id": "ef4cc185-301e-4e95-abd6-f1ffbf5ae3dd",
   "metadata": {},
   "outputs": [
    {
     "data": {
      "text/plain": [
       "array([1, 2, 3])"
      ]
     },
     "execution_count": 10,
     "metadata": {},
     "output_type": "execute_result"
    }
   ],
   "source": [
    "matrix[0]"
   ]
  },
  {
   "cell_type": "code",
   "execution_count": 11,
   "id": "6dada4f0-9213-41b5-8131-d989152517fc",
   "metadata": {},
   "outputs": [
    {
     "data": {
      "text/plain": [
       "1"
      ]
     },
     "execution_count": 11,
     "metadata": {},
     "output_type": "execute_result"
    }
   ],
   "source": [
    "matrix[0][0]"
   ]
  },
  {
   "cell_type": "code",
   "execution_count": 12,
   "id": "f15fee66-04e5-4af9-8f89-1259cd6b04f8",
   "metadata": {},
   "outputs": [
    {
     "data": {
      "text/plain": [
       "numpy.int64"
      ]
     },
     "execution_count": 12,
     "metadata": {},
     "output_type": "execute_result"
    }
   ],
   "source": [
    "type(matrix[0][0])"
   ]
  },
  {
   "cell_type": "code",
   "execution_count": 13,
   "id": "c0c256cf-c267-43f6-a7c6-e8770a07cbfa",
   "metadata": {},
   "outputs": [
    {
     "data": {
      "text/plain": [
       "int"
      ]
     },
     "execution_count": 13,
     "metadata": {},
     "output_type": "execute_result"
    }
   ],
   "source": [
    "type(1)"
   ]
  },
  {
   "cell_type": "code",
   "execution_count": 14,
   "id": "14a9e5a8-5c96-4217-be81-883b00af0a35",
   "metadata": {},
   "outputs": [
    {
     "data": {
      "text/plain": [
       "array([[1, 2, 3],\n",
       "       [4, 5, 6],\n",
       "       [7, 8, 9]])"
      ]
     },
     "execution_count": 14,
     "metadata": {},
     "output_type": "execute_result"
    }
   ],
   "source": [
    "matrix"
   ]
  },
  {
   "cell_type": "markdown",
   "id": "8af13209-5492-4768-a8cd-32a881075d2a",
   "metadata": {},
   "source": [
    "#### numpy.int64というデータタイプ(型)"
   ]
  },
  {
   "cell_type": "markdown",
   "id": "70fc12db-7813-4c24-a22e-6814c31b519c",
   "metadata": {},
   "source": [
    "#### numpy独自のデータタイプになっている"
   ]
  },
  {
   "cell_type": "code",
   "execution_count": 15,
   "id": "ede48102-9a88-463e-bcf2-79d3b0ae1b97",
   "metadata": {},
   "outputs": [],
   "source": [
    "matrix = np.array([[1, 2, 3], [4, 5, 6], [7, 8, 9]], dtype=complex)"
   ]
  },
  {
   "cell_type": "code",
   "execution_count": 16,
   "id": "82b44462-ad57-4e95-9bf6-a0e1a173148d",
   "metadata": {},
   "outputs": [
    {
     "data": {
      "text/plain": [
       "array([[1.+0.j, 2.+0.j, 3.+0.j],\n",
       "       [4.+0.j, 5.+0.j, 6.+0.j],\n",
       "       [7.+0.j, 8.+0.j, 9.+0.j]])"
      ]
     },
     "execution_count": 16,
     "metadata": {},
     "output_type": "execute_result"
    }
   ],
   "source": [
    "matrix"
   ]
  },
  {
   "cell_type": "markdown",
   "id": "13d57d7e-3eda-4813-8846-47a1c3eada67",
   "metadata": {},
   "source": [
    "#### 要素のデータタイプを指定することも可能 "
   ]
  },
  {
   "cell_type": "code",
   "execution_count": 17,
   "id": "fc9f2795-7c19-44c3-8a1f-ea04503503a0",
   "metadata": {},
   "outputs": [],
   "source": [
    "ndarray = np.array([1, 2, 3], dtype=np.uint8) # unsigned + - integer 8bit"
   ]
  },
  {
   "cell_type": "markdown",
   "id": "2834688a-aa3a-47ef-b430-8abbe7dd097a",
   "metadata": {},
   "source": [
    "#### uint8 はデータサイエンスでよく使う"
   ]
  },
  {
   "cell_type": "markdown",
   "id": "075c1175-9faf-4568-9a22-405a20c7df6d",
   "metadata": {},
   "source": [
    "#### dtype=np.uint8"
   ]
  },
  {
   "cell_type": "markdown",
   "id": "778918bf-0b46-46b5-bb60-4ff328dd6179",
   "metadata": {},
   "source": [
    "#### unsigned, integer, 8bitのデータタイプ"
   ]
  },
  {
   "cell_type": "markdown",
   "id": "f1bbd5fa-8141-4a2b-92ac-67a6354e170d",
   "metadata": {},
   "source": [
    "#### unsignedは-+がないという意味"
   ]
  },
  {
   "cell_type": "markdown",
   "id": "51b056a7-0726-4c7e-9ea8-82df9bb42dd7",
   "metadata": {},
   "source": [
    "#### integerの8bitなので 2の8乗つまり　256 → 0~255までの値"
   ]
  },
  {
   "cell_type": "markdown",
   "id": "ad3fd38e-daa6-4917-8d1e-aad4fec1acff",
   "metadata": {},
   "source": [
    "#### 一般的には画像を扱うときに使う"
   ]
  },
  {
   "cell_type": "code",
   "execution_count": 18,
   "id": "57f7ea1e-797d-41b4-acfb-dd2cdd4cb5d2",
   "metadata": {},
   "outputs": [
    {
     "data": {
      "text/plain": [
       "array([1, 2, 3], dtype=uint8)"
      ]
     },
     "execution_count": 18,
     "metadata": {},
     "output_type": "execute_result"
    }
   ],
   "source": [
    "ndarray"
   ]
  },
  {
   "cell_type": "code",
   "execution_count": 19,
   "id": "f42ab620-852d-44fb-a5b0-64dcc4c50838",
   "metadata": {},
   "outputs": [],
   "source": [
    "ndarray = np.array([1, 2, 3], dtype=np.float32) "
   ]
  },
  {
   "cell_type": "code",
   "execution_count": 21,
   "id": "46435f3f-bce5-424e-b4dc-6d0398ceab35",
   "metadata": {},
   "outputs": [
    {
     "data": {
      "text/plain": [
       "array([1., 2., 3.], dtype=float32)"
      ]
     },
     "execution_count": 21,
     "metadata": {},
     "output_type": "execute_result"
    }
   ],
   "source": [
    "ndarray"
   ]
  },
  {
   "cell_type": "markdown",
   "id": "2799fa60-f9c1-48b1-b018-128c7110d087",
   "metadata": {},
   "source": [
    "#### 機械学習でデータを保存するときに使う"
   ]
  },
  {
   "cell_type": "code",
   "execution_count": 22,
   "id": "090eb9e7-64a9-4125-8859-136388ee5354",
   "metadata": {},
   "outputs": [],
   "source": [
    "ndarray = np.array([1, 2, 3], dtype=np.float64) "
   ]
  },
  {
   "cell_type": "code",
   "execution_count": 23,
   "id": "5aa08e41-24b3-41a3-868a-eb7d9a519a43",
   "metadata": {},
   "outputs": [
    {
     "data": {
      "text/plain": [
       "array([1., 2., 3.])"
      ]
     },
     "execution_count": 23,
     "metadata": {},
     "output_type": "execute_result"
    }
   ],
   "source": [
    "ndarray"
   ]
  },
  {
   "cell_type": "markdown",
   "id": "4174f039-2dce-42e5-b9a0-592f071a5b26",
   "metadata": {},
   "source": [
    "#### 保存するときのデータ量が多いため実際のモデル学習に64bitで学習することが多い"
   ]
  },
  {
   "cell_type": "code",
   "execution_count": 25,
   "id": "cc8c1822-26a7-443f-89f3-0fb1b807c69d",
   "metadata": {},
   "outputs": [
    {
     "data": {
      "text/plain": [
       "array([1, 2, 3], dtype=uint8)"
      ]
     },
     "execution_count": 25,
     "metadata": {},
     "output_type": "execute_result"
    }
   ],
   "source": [
    "ndarray.astype(np.uint8)"
   ]
  },
  {
   "cell_type": "markdown",
   "id": "6054a7d7-5071-4204-a701-e2b32b877458",
   "metadata": {},
   "source": [
    "#### .astype()で元のndarrayのdtypeを変更"
   ]
  }
 ],
 "metadata": {
  "kernelspec": {
   "display_name": "Python 3",
   "language": "python",
   "name": "python3"
  },
  "language_info": {
   "codemirror_mode": {
    "name": "ipython",
    "version": 3
   },
   "file_extension": ".py",
   "mimetype": "text/x-python",
   "name": "python",
   "nbconvert_exporter": "python",
   "pygments_lexer": "ipython3",
   "version": "3.8.8"
  }
 },
 "nbformat": 4,
 "nbformat_minor": 5
}
