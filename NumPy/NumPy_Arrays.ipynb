{
 "cells": [
  {
   "cell_type": "markdown",
   "id": "90238157-9d3b-4da1-8913-9b7cf31a14e6",
   "metadata": {},
   "source": [
    "## NumPy Arrays (ndarray)"
   ]
  },
  {
   "cell_type": "code",
   "execution_count": 2,
   "id": "076aee62-78eb-4bc6-850a-872a5ff1abae",
   "metadata": {},
   "outputs": [],
   "source": [
    "import numpy as np"
   ]
  },
  {
   "cell_type": "code",
   "execution_count": 3,
   "id": "3ab9feb5-8a60-4af6-8705-dceb5fe269de",
   "metadata": {},
   "outputs": [
    {
     "data": {
      "text/plain": [
       "array([1, 2, 3])"
      ]
     },
     "execution_count": 3,
     "metadata": {},
     "output_type": "execute_result"
    }
   ],
   "source": [
    "np.array([1,2,3])"
   ]
  },
  {
   "cell_type": "code",
   "execution_count": 8,
   "id": "66b57bd4-78b1-487d-b45d-c2c270b75f0e",
   "metadata": {},
   "outputs": [
    {
     "data": {
      "text/plain": [
       "array([[1, 2, 3],\n",
       "       [4, 5, 6],\n",
       "       [7, 8, 9]])"
      ]
     },
     "execution_count": 8,
     "metadata": {},
     "output_type": "execute_result"
    }
   ],
   "source": [
    "np.array([[1, 2, 3], [4, 5, 6], [7, 8, 9]])"
   ]
  },
  {
   "cell_type": "code",
   "execution_count": 9,
   "id": "b4cc78fe-cbf3-43b7-8979-63c63b719564",
   "metadata": {},
   "outputs": [],
   "source": [
    "matrix = np.array([[1, 2, 3], [4, 5, 6], [7, 8, 9]])"
   ]
  },
  {
   "cell_type": "code",
   "execution_count": 10,
   "id": "ef4cc185-301e-4e95-abd6-f1ffbf5ae3dd",
   "metadata": {},
   "outputs": [
    {
     "data": {
      "text/plain": [
       "array([1, 2, 3])"
      ]
     },
     "execution_count": 10,
     "metadata": {},
     "output_type": "execute_result"
    }
   ],
   "source": [
    "matrix[0]"
   ]
  },
  {
   "cell_type": "code",
   "execution_count": 11,
   "id": "6dada4f0-9213-41b5-8131-d989152517fc",
   "metadata": {},
   "outputs": [
    {
     "data": {
      "text/plain": [
       "1"
      ]
     },
     "execution_count": 11,
     "metadata": {},
     "output_type": "execute_result"
    }
   ],
   "source": [
    "matrix[0][0]"
   ]
  },
  {
   "cell_type": "code",
   "execution_count": 12,
   "id": "f15fee66-04e5-4af9-8f89-1259cd6b04f8",
   "metadata": {},
   "outputs": [
    {
     "data": {
      "text/plain": [
       "numpy.int64"
      ]
     },
     "execution_count": 12,
     "metadata": {},
     "output_type": "execute_result"
    }
   ],
   "source": [
    "type(matrix[0][0])"
   ]
  },
  {
   "cell_type": "code",
   "execution_count": 13,
   "id": "c0c256cf-c267-43f6-a7c6-e8770a07cbfa",
   "metadata": {},
   "outputs": [
    {
     "data": {
      "text/plain": [
       "int"
      ]
     },
     "execution_count": 13,
     "metadata": {},
     "output_type": "execute_result"
    }
   ],
   "source": [
    "type(1)"
   ]
  },
  {
   "cell_type": "code",
   "execution_count": 14,
   "id": "14a9e5a8-5c96-4217-be81-883b00af0a35",
   "metadata": {},
   "outputs": [
    {
     "data": {
      "text/plain": [
       "array([[1, 2, 3],\n",
       "       [4, 5, 6],\n",
       "       [7, 8, 9]])"
      ]
     },
     "execution_count": 14,
     "metadata": {},
     "output_type": "execute_result"
    }
   ],
   "source": [
    "matrix"
   ]
  },
  {
   "cell_type": "markdown",
   "id": "8af13209-5492-4768-a8cd-32a881075d2a",
   "metadata": {},
   "source": [
    "#### numpy.int64というデータタイプ(型)"
   ]
  },
  {
   "cell_type": "markdown",
   "id": "70fc12db-7813-4c24-a22e-6814c31b519c",
   "metadata": {},
   "source": [
    "#### numpy独自のデータタイプになっている"
   ]
  },
  {
   "cell_type": "code",
   "execution_count": 15,
   "id": "ede48102-9a88-463e-bcf2-79d3b0ae1b97",
   "metadata": {},
   "outputs": [],
   "source": [
    "matrix = np.array([[1, 2, 3], [4, 5, 6], [7, 8, 9]], dtype=complex)"
   ]
  },
  {
   "cell_type": "code",
   "execution_count": 16,
   "id": "82b44462-ad57-4e95-9bf6-a0e1a173148d",
   "metadata": {},
   "outputs": [
    {
     "data": {
      "text/plain": [
       "array([[1.+0.j, 2.+0.j, 3.+0.j],\n",
       "       [4.+0.j, 5.+0.j, 6.+0.j],\n",
       "       [7.+0.j, 8.+0.j, 9.+0.j]])"
      ]
     },
     "execution_count": 16,
     "metadata": {},
     "output_type": "execute_result"
    }
   ],
   "source": [
    "matrix"
   ]
  },
  {
   "cell_type": "markdown",
   "id": "13d57d7e-3eda-4813-8846-47a1c3eada67",
   "metadata": {},
   "source": [
    "#### 要素のデータタイプを指定することも可能 "
   ]
  },
  {
   "cell_type": "code",
   "execution_count": 17,
   "id": "fc9f2795-7c19-44c3-8a1f-ea04503503a0",
   "metadata": {},
   "outputs": [],
   "source": [
    "ndarray = np.array([1, 2, 3], dtype=np.uint8) # unsigned + - integer 8bit"
   ]
  },
  {
   "cell_type": "markdown",
   "id": "2834688a-aa3a-47ef-b430-8abbe7dd097a",
   "metadata": {},
   "source": [
    "#### uint8 はデータサイエンスでよく使う"
   ]
  },
  {
   "cell_type": "markdown",
   "id": "075c1175-9faf-4568-9a22-405a20c7df6d",
   "metadata": {},
   "source": [
    "#### dtype=np.uint8"
   ]
  },
  {
   "cell_type": "markdown",
   "id": "778918bf-0b46-46b5-bb60-4ff328dd6179",
   "metadata": {},
   "source": [
    "#### unsigned, integer, 8bitのデータタイプ"
   ]
  },
  {
   "cell_type": "markdown",
   "id": "f1bbd5fa-8141-4a2b-92ac-67a6354e170d",
   "metadata": {},
   "source": [
    "#### unsignedは-+がないという意味"
   ]
  },
  {
   "cell_type": "markdown",
   "id": "51b056a7-0726-4c7e-9ea8-82df9bb42dd7",
   "metadata": {},
   "source": [
    "#### integerの8bitなので 2の8乗つまり　256 → 0~255までの値"
   ]
  },
  {
   "cell_type": "markdown",
   "id": "ad3fd38e-daa6-4917-8d1e-aad4fec1acff",
   "metadata": {},
   "source": [
    "#### 一般的には画像を扱うときに使う"
   ]
  },
  {
   "cell_type": "code",
   "execution_count": 18,
   "id": "57f7ea1e-797d-41b4-acfb-dd2cdd4cb5d2",
   "metadata": {},
   "outputs": [
    {
     "data": {
      "text/plain": [
       "array([1, 2, 3], dtype=uint8)"
      ]
     },
     "execution_count": 18,
     "metadata": {},
     "output_type": "execute_result"
    }
   ],
   "source": [
    "ndarray"
   ]
  },
  {
   "cell_type": "code",
   "execution_count": 19,
   "id": "f42ab620-852d-44fb-a5b0-64dcc4c50838",
   "metadata": {},
   "outputs": [],
   "source": [
    "ndarray = np.array([1, 2, 3], dtype=np.float32) "
   ]
  },
  {
   "cell_type": "code",
   "execution_count": 21,
   "id": "46435f3f-bce5-424e-b4dc-6d0398ceab35",
   "metadata": {},
   "outputs": [
    {
     "data": {
      "text/plain": [
       "array([1., 2., 3.], dtype=float32)"
      ]
     },
     "execution_count": 21,
     "metadata": {},
     "output_type": "execute_result"
    }
   ],
   "source": [
    "ndarray"
   ]
  },
  {
   "cell_type": "markdown",
   "id": "2799fa60-f9c1-48b1-b018-128c7110d087",
   "metadata": {},
   "source": [
    "#### 機械学習でデータを保存するときに使う"
   ]
  },
  {
   "cell_type": "code",
   "execution_count": 22,
   "id": "090eb9e7-64a9-4125-8859-136388ee5354",
   "metadata": {},
   "outputs": [],
   "source": [
    "ndarray = np.array([1, 2, 3], dtype=np.float64) "
   ]
  },
  {
   "cell_type": "code",
   "execution_count": 23,
   "id": "5aa08e41-24b3-41a3-868a-eb7d9a519a43",
   "metadata": {},
   "outputs": [
    {
     "data": {
      "text/plain": [
       "array([1., 2., 3.])"
      ]
     },
     "execution_count": 23,
     "metadata": {},
     "output_type": "execute_result"
    }
   ],
   "source": [
    "ndarray"
   ]
  },
  {
   "cell_type": "markdown",
   "id": "4174f039-2dce-42e5-b9a0-592f071a5b26",
   "metadata": {},
   "source": [
    "#### 保存するときのデータ量が多いため実際のモデル学習に64bitで学習することが多い"
   ]
  },
  {
   "cell_type": "code",
   "execution_count": 25,
   "id": "cc8c1822-26a7-443f-89f3-0fb1b807c69d",
   "metadata": {},
   "outputs": [
    {
     "data": {
      "text/plain": [
       "array([1, 2, 3], dtype=uint8)"
      ]
     },
     "execution_count": 25,
     "metadata": {},
     "output_type": "execute_result"
    }
   ],
   "source": [
    "ndarray.astype(np.uint8)"
   ]
  },
  {
   "cell_type": "markdown",
   "id": "6054a7d7-5071-4204-a701-e2b32b877458",
   "metadata": {},
   "source": [
    "#### .astype()で元のndarrayのdtypeを変更"
   ]
  },
  {
   "cell_type": "markdown",
   "id": "f484e50d-4fd1-4a89-8d7c-979c3f193107",
   "metadata": {},
   "source": [
    "## np.save('path', array)とnp.load('path')"
   ]
  },
  {
   "cell_type": "code",
   "execution_count": 4,
   "id": "d831966d-404b-4ba2-a53b-cf1252bd067f",
   "metadata": {},
   "outputs": [
    {
     "data": {
      "text/plain": [
       "(3, 4, 5)"
      ]
     },
     "execution_count": 4,
     "metadata": {},
     "output_type": "execute_result"
    }
   ],
   "source": [
    "ndarray = np.random.randn(3, 4, 5)\n",
    "ndarray.shape"
   ]
  },
  {
   "cell_type": "code",
   "execution_count": 6,
   "id": "7fa84f43-99f5-497a-a733-62b2ff13ccd1",
   "metadata": {},
   "outputs": [],
   "source": [
    "np.save('sample_ndarray', ndarray)"
   ]
  },
  {
   "cell_type": "code",
   "execution_count": 9,
   "id": "c1010066-7280-42c5-8324-0174af4676c3",
   "metadata": {},
   "outputs": [
    {
     "data": {
      "text/plain": [
       "(3, 4, 5)"
      ]
     },
     "execution_count": 9,
     "metadata": {},
     "output_type": "execute_result"
    }
   ],
   "source": [
    "loaded_ndarray = np.load('sample_ndarray.npy')\n",
    "loaded_ndarray.shape"
   ]
  },
  {
   "cell_type": "code",
   "execution_count": 10,
   "id": "0058f597-bcd2-428c-8f0c-23882d4f7307",
   "metadata": {},
   "outputs": [],
   "source": [
    "dictionary = {\n",
    "    'id': 123456,\n",
    "    'image': ndarray\n",
    "}"
   ]
  },
  {
   "cell_type": "code",
   "execution_count": 11,
   "id": "c0ff4a0a-c2e0-4b0e-be63-9daa7fb0829c",
   "metadata": {},
   "outputs": [
    {
     "data": {
      "text/plain": [
       "{'id': 123456,\n",
       " 'image': array([[[-1.85869123,  1.20792693,  0.35415075, -0.1224539 ,\n",
       "          -0.51483335],\n",
       "         [-0.19818867, -1.29092425,  0.65145186,  0.13731711,\n",
       "          -0.11077021],\n",
       "         [-0.60308205, -0.38139361,  0.72501924,  0.79503581,\n",
       "           0.31884103],\n",
       "         [-0.17782918,  0.48434901,  1.5438977 , -1.27604427,\n",
       "           0.6609939 ]],\n",
       " \n",
       "        [[-0.31497495,  0.5856695 , -1.51268984, -0.83313901,\n",
       "           0.32541835],\n",
       "         [ 0.69305689,  0.49202025, -0.66913355, -0.07835382,\n",
       "          -2.59589995],\n",
       "         [-0.74686072,  1.05213627, -0.32338956,  0.06787359,\n",
       "          -0.68858597],\n",
       "         [ 0.71355676, -0.86741279, -0.31869782,  0.76019561,\n",
       "          -0.39885469]],\n",
       " \n",
       "        [[-0.80523241,  1.35513636,  0.01423522,  1.08327645,\n",
       "          -0.30065564],\n",
       "         [ 0.27032045,  0.29482027, -0.58879977, -0.48682014,\n",
       "          -1.25991679],\n",
       "         [-0.49005735,  1.61591409,  0.08583556, -2.08198802,\n",
       "           0.73554327],\n",
       "         [-1.86567119,  0.89282055, -0.09153601, -0.03782263,\n",
       "           0.71898326]]])}"
      ]
     },
     "execution_count": 11,
     "metadata": {},
     "output_type": "execute_result"
    }
   ],
   "source": [
    "dictionary"
   ]
  },
  {
   "cell_type": "code",
   "execution_count": 12,
   "id": "6b717cb4-b480-48ea-a2ee-9c3662f03b10",
   "metadata": {},
   "outputs": [],
   "source": [
    "np.save('sample_dict.npy', dictionary)"
   ]
  },
  {
   "cell_type": "code",
   "execution_count": 13,
   "id": "f50f0890-3c1f-49b5-a8f8-1d66924b4e7c",
   "metadata": {},
   "outputs": [
    {
     "ename": "ValueError",
     "evalue": "Object arrays cannot be loaded when allow_pickle=False",
     "output_type": "error",
     "traceback": [
      "\u001b[0;31m---------------------------------------------------------------------------\u001b[0m",
      "\u001b[0;31mValueError\u001b[0m                                Traceback (most recent call last)",
      "\u001b[0;32m<ipython-input-13-03feff543d1a>\u001b[0m in \u001b[0;36m<module>\u001b[0;34m\u001b[0m\n\u001b[0;32m----> 1\u001b[0;31m \u001b[0mnp\u001b[0m\u001b[0;34m.\u001b[0m\u001b[0mload\u001b[0m\u001b[0;34m(\u001b[0m\u001b[0;34m'sample_dict.npy'\u001b[0m\u001b[0;34m)\u001b[0m\u001b[0;34m\u001b[0m\u001b[0;34m\u001b[0m\u001b[0m\n\u001b[0m",
      "\u001b[0;32m/opt/anaconda3/lib/python3.8/site-packages/numpy/lib/npyio.py\u001b[0m in \u001b[0;36mload\u001b[0;34m(file, mmap_mode, allow_pickle, fix_imports, encoding)\u001b[0m\n\u001b[1;32m    438\u001b[0m                 \u001b[0;32mreturn\u001b[0m \u001b[0mformat\u001b[0m\u001b[0;34m.\u001b[0m\u001b[0mopen_memmap\u001b[0m\u001b[0;34m(\u001b[0m\u001b[0mfile\u001b[0m\u001b[0;34m,\u001b[0m \u001b[0mmode\u001b[0m\u001b[0;34m=\u001b[0m\u001b[0mmmap_mode\u001b[0m\u001b[0;34m)\u001b[0m\u001b[0;34m\u001b[0m\u001b[0;34m\u001b[0m\u001b[0m\n\u001b[1;32m    439\u001b[0m             \u001b[0;32melse\u001b[0m\u001b[0;34m:\u001b[0m\u001b[0;34m\u001b[0m\u001b[0;34m\u001b[0m\u001b[0m\n\u001b[0;32m--> 440\u001b[0;31m                 return format.read_array(fid, allow_pickle=allow_pickle,\n\u001b[0m\u001b[1;32m    441\u001b[0m                                          pickle_kwargs=pickle_kwargs)\n\u001b[1;32m    442\u001b[0m         \u001b[0;32melse\u001b[0m\u001b[0;34m:\u001b[0m\u001b[0;34m\u001b[0m\u001b[0;34m\u001b[0m\u001b[0m\n",
      "\u001b[0;32m/opt/anaconda3/lib/python3.8/site-packages/numpy/lib/format.py\u001b[0m in \u001b[0;36mread_array\u001b[0;34m(fp, allow_pickle, pickle_kwargs)\u001b[0m\n\u001b[1;32m    737\u001b[0m         \u001b[0;31m# The array contained Python objects. We need to unpickle the data.\u001b[0m\u001b[0;34m\u001b[0m\u001b[0;34m\u001b[0m\u001b[0;34m\u001b[0m\u001b[0m\n\u001b[1;32m    738\u001b[0m         \u001b[0;32mif\u001b[0m \u001b[0;32mnot\u001b[0m \u001b[0mallow_pickle\u001b[0m\u001b[0;34m:\u001b[0m\u001b[0;34m\u001b[0m\u001b[0;34m\u001b[0m\u001b[0m\n\u001b[0;32m--> 739\u001b[0;31m             raise ValueError(\"Object arrays cannot be loaded when \"\n\u001b[0m\u001b[1;32m    740\u001b[0m                              \"allow_pickle=False\")\n\u001b[1;32m    741\u001b[0m         \u001b[0;32mif\u001b[0m \u001b[0mpickle_kwargs\u001b[0m \u001b[0;32mis\u001b[0m \u001b[0;32mNone\u001b[0m\u001b[0;34m:\u001b[0m\u001b[0;34m\u001b[0m\u001b[0;34m\u001b[0m\u001b[0m\n",
      "\u001b[0;31mValueError\u001b[0m: Object arrays cannot be loaded when allow_pickle=False"
     ]
    }
   ],
   "source": [
    "np.load('sample_dict.npy')"
   ]
  },
  {
   "cell_type": "code",
   "execution_count": 14,
   "id": "9487e9e2-37ef-471e-bc55-ea171bbfe319",
   "metadata": {},
   "outputs": [
    {
     "data": {
      "text/plain": [
       "array({'id': 123456, 'image': array([[[-1.85869123,  1.20792693,  0.35415075, -0.1224539 ,\n",
       "         -0.51483335],\n",
       "        [-0.19818867, -1.29092425,  0.65145186,  0.13731711,\n",
       "         -0.11077021],\n",
       "        [-0.60308205, -0.38139361,  0.72501924,  0.79503581,\n",
       "          0.31884103],\n",
       "        [-0.17782918,  0.48434901,  1.5438977 , -1.27604427,\n",
       "          0.6609939 ]],\n",
       "\n",
       "       [[-0.31497495,  0.5856695 , -1.51268984, -0.83313901,\n",
       "          0.32541835],\n",
       "        [ 0.69305689,  0.49202025, -0.66913355, -0.07835382,\n",
       "         -2.59589995],\n",
       "        [-0.74686072,  1.05213627, -0.32338956,  0.06787359,\n",
       "         -0.68858597],\n",
       "        [ 0.71355676, -0.86741279, -0.31869782,  0.76019561,\n",
       "         -0.39885469]],\n",
       "\n",
       "       [[-0.80523241,  1.35513636,  0.01423522,  1.08327645,\n",
       "         -0.30065564],\n",
       "        [ 0.27032045,  0.29482027, -0.58879977, -0.48682014,\n",
       "         -1.25991679],\n",
       "        [-0.49005735,  1.61591409,  0.08583556, -2.08198802,\n",
       "          0.73554327],\n",
       "        [-1.86567119,  0.89282055, -0.09153601, -0.03782263,\n",
       "          0.71898326]]])}, dtype=object)"
      ]
     },
     "execution_count": 14,
     "metadata": {},
     "output_type": "execute_result"
    }
   ],
   "source": [
    "np.load('sample_dict.npy', allow_pickle=True)"
   ]
  },
  {
   "cell_type": "code",
   "execution_count": 15,
   "id": "7adae64e-e3b2-4e75-a4a8-d6c8de3f3c8a",
   "metadata": {},
   "outputs": [],
   "source": [
    "loaded_dict = np.load('sample_dict.npy', allow_pickle=True)"
   ]
  },
  {
   "cell_type": "code",
   "execution_count": 17,
   "id": "99d9371a-b2c7-487e-8d06-d83fedd79afa",
   "metadata": {},
   "outputs": [],
   "source": [
    "# loaded_dict"
   ]
  },
  {
   "cell_type": "code",
   "execution_count": 18,
   "id": "5ee056b0-ec8c-409b-ac15-5cb6401e14c8",
   "metadata": {},
   "outputs": [],
   "source": [
    "a = np.array({'a': 1})"
   ]
  },
  {
   "cell_type": "code",
   "execution_count": 19,
   "id": "e0515e9b-a914-4763-92d5-85f0d59f27c9",
   "metadata": {},
   "outputs": [
    {
     "data": {
      "text/plain": [
       "array({'a': 1}, dtype=object)"
      ]
     },
     "execution_count": 19,
     "metadata": {},
     "output_type": "execute_result"
    }
   ],
   "source": [
    "a"
   ]
  },
  {
   "cell_type": "code",
   "execution_count": 20,
   "id": "94e1e332-e1c5-4efd-8680-bdc611401125",
   "metadata": {},
   "outputs": [
    {
     "data": {
      "text/plain": [
       "{'a': 1}"
      ]
     },
     "execution_count": 20,
     "metadata": {},
     "output_type": "execute_result"
    }
   ],
   "source": [
    "a[()]"
   ]
  },
  {
   "cell_type": "code",
   "execution_count": 21,
   "id": "f4bc445d-8e2c-43d3-af60-e0753c127d05",
   "metadata": {},
   "outputs": [],
   "source": [
    "loaded_dict = np.load('sample_dict.npy', allow_pickle=True)[()]"
   ]
  },
  {
   "cell_type": "code",
   "execution_count": 22,
   "id": "0db8afe4-eb0c-4bde-ba58-09823f546c88",
   "metadata": {},
   "outputs": [
    {
     "data": {
      "text/plain": [
       "dict"
      ]
     },
     "execution_count": 22,
     "metadata": {},
     "output_type": "execute_result"
    }
   ],
   "source": [
    "type(loaded_dict)"
   ]
  },
  {
   "cell_type": "code",
   "execution_count": 23,
   "id": "eff7e9ef-ad90-4236-94f7-a1a7376189fe",
   "metadata": {},
   "outputs": [
    {
     "data": {
      "text/plain": [
       "{'id': 123456,\n",
       " 'image': array([[[-1.85869123,  1.20792693,  0.35415075, -0.1224539 ,\n",
       "          -0.51483335],\n",
       "         [-0.19818867, -1.29092425,  0.65145186,  0.13731711,\n",
       "          -0.11077021],\n",
       "         [-0.60308205, -0.38139361,  0.72501924,  0.79503581,\n",
       "           0.31884103],\n",
       "         [-0.17782918,  0.48434901,  1.5438977 , -1.27604427,\n",
       "           0.6609939 ]],\n",
       " \n",
       "        [[-0.31497495,  0.5856695 , -1.51268984, -0.83313901,\n",
       "           0.32541835],\n",
       "         [ 0.69305689,  0.49202025, -0.66913355, -0.07835382,\n",
       "          -2.59589995],\n",
       "         [-0.74686072,  1.05213627, -0.32338956,  0.06787359,\n",
       "          -0.68858597],\n",
       "         [ 0.71355676, -0.86741279, -0.31869782,  0.76019561,\n",
       "          -0.39885469]],\n",
       " \n",
       "        [[-0.80523241,  1.35513636,  0.01423522,  1.08327645,\n",
       "          -0.30065564],\n",
       "         [ 0.27032045,  0.29482027, -0.58879977, -0.48682014,\n",
       "          -1.25991679],\n",
       "         [-0.49005735,  1.61591409,  0.08583556, -2.08198802,\n",
       "           0.73554327],\n",
       "         [-1.86567119,  0.89282055, -0.09153601, -0.03782263,\n",
       "           0.71898326]]])}"
      ]
     },
     "execution_count": 23,
     "metadata": {},
     "output_type": "execute_result"
    }
   ],
   "source": [
    "loaded_dict"
   ]
  }
 ],
 "metadata": {
  "kernelspec": {
   "display_name": "Python 3",
   "language": "python",
   "name": "python3"
  },
  "language_info": {
   "codemirror_mode": {
    "name": "ipython",
    "version": 3
   },
   "file_extension": ".py",
   "mimetype": "text/x-python",
   "name": "python",
   "nbconvert_exporter": "python",
   "pygments_lexer": "ipython3",
   "version": "3.8.8"
  }
 },
 "nbformat": 4,
 "nbformat_minor": 5
}
