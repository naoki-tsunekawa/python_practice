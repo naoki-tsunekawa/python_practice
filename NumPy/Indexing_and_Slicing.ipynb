{
 "cells": [
  {
   "cell_type": "markdown",
   "id": "f4a7ef21-ede2-4cde-b1d2-9cc02fd863ac",
   "metadata": {},
   "source": [
    "## IndexingとSlicing"
   ]
  },
  {
   "cell_type": "code",
   "execution_count": 1,
   "id": "14f4fbfc-c633-4749-940d-0b62e2b37510",
   "metadata": {},
   "outputs": [],
   "source": [
    "import numpy as np"
   ]
  },
  {
   "cell_type": "markdown",
   "id": "b89fe910-7f55-4410-b49f-a5453f2f8b1e",
   "metadata": {},
   "source": [
    "## Indexing"
   ]
  },
  {
   "cell_type": "code",
   "execution_count": 2,
   "id": "08a97338-5fd1-4def-afa4-b139c1623a75",
   "metadata": {},
   "outputs": [],
   "source": [
    "ndarray = np.array([1, 2, 3, 4])"
   ]
  },
  {
   "cell_type": "code",
   "execution_count": 3,
   "id": "5cb28bc2-248a-4a41-a6ef-69a984eab62b",
   "metadata": {},
   "outputs": [
    {
     "data": {
      "text/plain": [
       "array([1, 2, 3, 4])"
      ]
     },
     "execution_count": 3,
     "metadata": {},
     "output_type": "execute_result"
    }
   ],
   "source": [
    "ndarray"
   ]
  },
  {
   "cell_type": "code",
   "execution_count": 5,
   "id": "b5960634-685d-4028-a6a5-db70c01f064f",
   "metadata": {},
   "outputs": [
    {
     "data": {
      "text/plain": [
       "4"
      ]
     },
     "execution_count": 5,
     "metadata": {},
     "output_type": "execute_result"
    }
   ],
   "source": [
    "ndarray[-1]"
   ]
  },
  {
   "cell_type": "code",
   "execution_count": 6,
   "id": "14e31120-6af4-402a-8011-58bc038821a9",
   "metadata": {},
   "outputs": [
    {
     "data": {
      "text/plain": [
       "1"
      ]
     },
     "execution_count": 6,
     "metadata": {},
     "output_type": "execute_result"
    }
   ],
   "source": [
    "ndarray[0]"
   ]
  },
  {
   "cell_type": "code",
   "execution_count": 7,
   "id": "6937b658-7942-482b-9b5f-e20c27935566",
   "metadata": {},
   "outputs": [],
   "source": [
    "ndarray = np.array([[1, 2], [3, 4], [5, 6]])"
   ]
  },
  {
   "cell_type": "code",
   "execution_count": 8,
   "id": "597bc81c-bcab-40c1-9751-b166c7200e95",
   "metadata": {},
   "outputs": [
    {
     "data": {
      "text/plain": [
       "array([[1, 2],\n",
       "       [3, 4],\n",
       "       [5, 6]])"
      ]
     },
     "execution_count": 8,
     "metadata": {},
     "output_type": "execute_result"
    }
   ],
   "source": [
    "ndarray"
   ]
  },
  {
   "cell_type": "code",
   "execution_count": 10,
   "id": "25f23024-e99a-4375-a127-ce3e0169fe32",
   "metadata": {},
   "outputs": [
    {
     "data": {
      "text/plain": [
       "2"
      ]
     },
     "execution_count": 10,
     "metadata": {},
     "output_type": "execute_result"
    }
   ],
   "source": [
    "ndarray[0, 1]"
   ]
  },
  {
   "cell_type": "markdown",
   "id": "0ae1d0cd-0daa-4c53-8f2f-6f58cae0013a",
   "metadata": {},
   "source": [
    "## slicing"
   ]
  },
  {
   "cell_type": "code",
   "execution_count": 11,
   "id": "12ee23c7-3c41-4b79-9998-b1e9021865bf",
   "metadata": {},
   "outputs": [
    {
     "data": {
      "text/plain": [
       "array([1, 2, 3, 4])"
      ]
     },
     "execution_count": 11,
     "metadata": {},
     "output_type": "execute_result"
    }
   ],
   "source": [
    "ndarray = np.array([1, 2, 3, 4])\n",
    "ndarray"
   ]
  },
  {
   "cell_type": "code",
   "execution_count": 12,
   "id": "5c003551-93ae-4883-9704-155c64e8e479",
   "metadata": {},
   "outputs": [
    {
     "data": {
      "text/plain": [
       "array([2, 3])"
      ]
     },
     "execution_count": 12,
     "metadata": {},
     "output_type": "execute_result"
    }
   ],
   "source": [
    "ndarray[1:3]"
   ]
  },
  {
   "cell_type": "markdown",
   "id": "2fcb0f11-0702-4c58-9483-0db9a2f2d5b4",
   "metadata": {},
   "source": [
    "#### 1以上3未満\n",
    "#### ~ 以上 ~未満"
   ]
  },
  {
   "cell_type": "code",
   "execution_count": 13,
   "id": "c755b587-cdea-4214-bc10-69abb1fedbbb",
   "metadata": {},
   "outputs": [
    {
     "data": {
      "text/plain": [
       "array([1, 2, 3])"
      ]
     },
     "execution_count": 13,
     "metadata": {},
     "output_type": "execute_result"
    }
   ],
   "source": [
    "ndarray[:3]"
   ]
  },
  {
   "cell_type": "code",
   "execution_count": 14,
   "id": "8ed67950-b681-4eef-a657-9c5b6ccc20d8",
   "metadata": {},
   "outputs": [
    {
     "data": {
      "text/plain": [
       "array([2, 3, 4])"
      ]
     },
     "execution_count": 14,
     "metadata": {},
     "output_type": "execute_result"
    }
   ],
   "source": [
    "ndarray[1:]"
   ]
  },
  {
   "cell_type": "code",
   "execution_count": 15,
   "id": "0faf4ad4-4652-4ecf-ab93-a89e26b170ce",
   "metadata": {},
   "outputs": [
    {
     "data": {
      "text/plain": [
       "array([1, 2])"
      ]
     },
     "execution_count": 15,
     "metadata": {},
     "output_type": "execute_result"
    }
   ],
   "source": [
    "ndarray[:-2]"
   ]
  },
  {
   "cell_type": "code",
   "execution_count": 16,
   "id": "1c813714-4e8f-4be9-b4aa-34d93f7e5371",
   "metadata": {},
   "outputs": [
    {
     "data": {
      "text/plain": [
       "array([1, 2, 3, 4])"
      ]
     },
     "execution_count": 16,
     "metadata": {},
     "output_type": "execute_result"
    }
   ],
   "source": [
    "ndarray[:]"
   ]
  },
  {
   "cell_type": "code",
   "execution_count": 17,
   "id": "454ecf60-39e1-40d1-94b7-05e11e0dc237",
   "metadata": {},
   "outputs": [],
   "source": [
    "ndarray = np.array([[1, 2, 3, 4], [5, 6, 7, 8], [9, 10, 11, 12], [13, 14, 15, 16]])"
   ]
  },
  {
   "cell_type": "code",
   "execution_count": 18,
   "id": "18654ff5-a57a-401c-80a0-d97df5e1ad31",
   "metadata": {},
   "outputs": [
    {
     "data": {
      "text/plain": [
       "array([[ 1,  2,  3,  4],\n",
       "       [ 5,  6,  7,  8],\n",
       "       [ 9, 10, 11, 12],\n",
       "       [13, 14, 15, 16]])"
      ]
     },
     "execution_count": 18,
     "metadata": {},
     "output_type": "execute_result"
    }
   ],
   "source": [
    "ndarray"
   ]
  },
  {
   "cell_type": "code",
   "execution_count": 19,
   "id": "0cc6c5b4-b4ac-4228-bb46-6bc7f8a959d5",
   "metadata": {},
   "outputs": [
    {
     "data": {
      "text/plain": [
       "array([[ 1,  2,  3,  4],\n",
       "       [ 5,  6,  7,  8],\n",
       "       [ 9, 10, 11, 12]])"
      ]
     },
     "execution_count": 19,
     "metadata": {},
     "output_type": "execute_result"
    }
   ],
   "source": [
    "ndarray[:3]"
   ]
  },
  {
   "cell_type": "code",
   "execution_count": 20,
   "id": "d92b8c0e-21b3-4d59-99d4-75e296745c21",
   "metadata": {},
   "outputs": [
    {
     "data": {
      "text/plain": [
       "array([[ 3,  4],\n",
       "       [ 7,  8],\n",
       "       [11, 12]])"
      ]
     },
     "execution_count": 20,
     "metadata": {},
     "output_type": "execute_result"
    }
   ],
   "source": [
    "ndarray[:3, 2:]"
   ]
  },
  {
   "cell_type": "code",
   "execution_count": 21,
   "id": "c77b057d-3405-45c1-9425-67eac9e2c192",
   "metadata": {},
   "outputs": [
    {
     "data": {
      "text/plain": [
       "array([[ 3,  4],\n",
       "       [ 7,  8],\n",
       "       [11, 12],\n",
       "       [15, 16]])"
      ]
     },
     "execution_count": 21,
     "metadata": {},
     "output_type": "execute_result"
    }
   ],
   "source": [
    "ndarray[:, 2:]"
   ]
  },
  {
   "cell_type": "code",
   "execution_count": 22,
   "id": "f6faf106-f471-4b5d-bc8b-1bbde19ac181",
   "metadata": {},
   "outputs": [
    {
     "data": {
      "text/plain": [
       "array([[ 9, 10, 11, 12]])"
      ]
     },
     "execution_count": 22,
     "metadata": {},
     "output_type": "execute_result"
    }
   ],
   "source": [
    "ndarray[:3][2:]"
   ]
  }
 ],
 "metadata": {
  "kernelspec": {
   "display_name": "Python 3",
   "language": "python",
   "name": "python3"
  },
  "language_info": {
   "codemirror_mode": {
    "name": "ipython",
    "version": 3
   },
   "file_extension": ".py",
   "mimetype": "text/x-python",
   "name": "python",
   "nbconvert_exporter": "python",
   "pygments_lexer": "ipython3",
   "version": "3.8.8"
  }
 },
 "nbformat": 4,
 "nbformat_minor": 5
}
