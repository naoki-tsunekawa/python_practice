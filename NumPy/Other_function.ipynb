{
 "cells": [
  {
   "cell_type": "markdown",
   "id": "f492c420-167a-43a6-9847-74ccfc0d2caf",
   "metadata": {},
   "source": [
    "## その他の便利関数"
   ]
  },
  {
   "cell_type": "code",
   "execution_count": 1,
   "id": "bdb8b267-fa5c-451e-b849-1b3747e2b6c6",
   "metadata": {},
   "outputs": [],
   "source": [
    "import numpy as np"
   ]
  },
  {
   "cell_type": "markdown",
   "id": "81954c2e-83ad-4ba2-b774-a18edce5b02d",
   "metadata": {},
   "source": [
    "#### np.clip()"
   ]
  },
  {
   "cell_type": "code",
   "execution_count": 2,
   "id": "3e7df04e-4626-426d-a646-017e9c384677",
   "metadata": {},
   "outputs": [
    {
     "data": {
      "text/plain": [
       "array([0, 1, 2, 3, 4, 5, 6, 7, 8, 9])"
      ]
     },
     "execution_count": 2,
     "metadata": {},
     "output_type": "execute_result"
    }
   ],
   "source": [
    "array = np.arange(10)\n",
    "array"
   ]
  },
  {
   "cell_type": "code",
   "execution_count": 3,
   "id": "86ad4fcc-39e7-4795-a09a-545a2c74a586",
   "metadata": {},
   "outputs": [
    {
     "data": {
      "text/plain": [
       "array([3, 3, 3, 3, 4, 5, 6, 7, 7, 7])"
      ]
     },
     "execution_count": 3,
     "metadata": {},
     "output_type": "execute_result"
    }
   ],
   "source": [
    "np.clip(array, 3, 7)"
   ]
  },
  {
   "cell_type": "code",
   "execution_count": 5,
   "id": "0d8d5f14-b18b-41e6-b15b-b40ff05704f4",
   "metadata": {},
   "outputs": [
    {
     "data": {
      "text/plain": [
       "0.0001"
      ]
     },
     "execution_count": 5,
     "metadata": {},
     "output_type": "execute_result"
    }
   ],
   "source": [
    "1e-4"
   ]
  },
  {
   "cell_type": "markdown",
   "id": "bb147200-dba8-4977-a235-ed9dccdf1c2f",
   "metadata": {},
   "source": [
    "## numpy array の condition"
   ]
  },
  {
   "cell_type": "code",
   "execution_count": 7,
   "id": "d1ec9022-b96d-4155-95e2-7f419319d9b7",
   "metadata": {},
   "outputs": [
    {
     "data": {
      "text/plain": [
       "array([0, 1, 2, 3, 4, 5, 6, 7, 8, 9])"
      ]
     },
     "execution_count": 7,
     "metadata": {},
     "output_type": "execute_result"
    }
   ],
   "source": [
    "array"
   ]
  },
  {
   "cell_type": "markdown",
   "id": "2fefd653-664e-4052-afab-3bb74b64f281",
   "metadata": {},
   "source": [
    "#### np.where"
   ]
  },
  {
   "cell_type": "code",
   "execution_count": 8,
   "id": "cf4954b3-9c0c-4ddb-ac44-df443b7783cf",
   "metadata": {},
   "outputs": [
    {
     "data": {
      "text/plain": [
       "array([0, 0, 0, 0, 1, 1, 1, 1, 1, 1])"
      ]
     },
     "execution_count": 8,
     "metadata": {},
     "output_type": "execute_result"
    }
   ],
   "source": [
    "np.where(array > 3, 1, 0)"
   ]
  },
  {
   "cell_type": "code",
   "execution_count": 15,
   "id": "a3c8350b-ee28-4767-870d-de6301c11465",
   "metadata": {},
   "outputs": [],
   "source": [
    "result, = np.where(array > 3)"
   ]
  },
  {
   "cell_type": "code",
   "execution_count": 16,
   "id": "19976636-45a4-410b-b618-3030ccb5031e",
   "metadata": {},
   "outputs": [
    {
     "data": {
      "text/plain": [
       "array([4, 5, 6, 7, 8, 9])"
      ]
     },
     "execution_count": 16,
     "metadata": {},
     "output_type": "execute_result"
    }
   ],
   "source": [
    "result"
   ]
  },
  {
   "cell_type": "code",
   "execution_count": 13,
   "id": "7f41a6b0-4435-43e9-8282-1a9da15be1a8",
   "metadata": {},
   "outputs": [
    {
     "data": {
      "text/plain": [
       "array([False, False, False, False,  True,  True,  True,  True,  True,\n",
       "        True])"
      ]
     },
     "execution_count": 13,
     "metadata": {},
     "output_type": "execute_result"
    }
   ],
   "source": [
    "# filter\n",
    "array > 3"
   ]
  },
  {
   "cell_type": "code",
   "execution_count": 14,
   "id": "8f550508-d6fa-47ec-af60-93d1cb629fe7",
   "metadata": {},
   "outputs": [
    {
     "data": {
      "text/plain": [
       "array([4, 5, 6, 7, 8, 9])"
      ]
     },
     "execution_count": 14,
     "metadata": {},
     "output_type": "execute_result"
    }
   ],
   "source": [
    "array[array > 3]"
   ]
  },
  {
   "cell_type": "code",
   "execution_count": 18,
   "id": "dbc8f7a9-8e84-4b16-a43e-ec6b5a1c58c9",
   "metadata": {},
   "outputs": [
    {
     "data": {
      "text/plain": [
       "array([4, 5, 6, 7, 8, 9])"
      ]
     },
     "execution_count": 18,
     "metadata": {},
     "output_type": "execute_result"
    }
   ],
   "source": [
    "ndarray = array.reshape(2, 5)\n",
    "ndarray[ndarray>3]"
   ]
  },
  {
   "cell_type": "code",
   "execution_count": 22,
   "id": "3938b3b2-e7a2-4658-a976-cf23a93d95e0",
   "metadata": {},
   "outputs": [
    {
     "data": {
      "text/plain": [
       "array([[False, False, False, False,  True],\n",
       "       [ True,  True,  True,  True,  True]])"
      ]
     },
     "execution_count": 22,
     "metadata": {},
     "output_type": "execute_result"
    }
   ],
   "source": [
    "ndarray > 3"
   ]
  },
  {
   "cell_type": "code",
   "execution_count": 23,
   "id": "5eb5ea76-659d-410a-b193-41e4d59d5dd8",
   "metadata": {},
   "outputs": [
    {
     "data": {
      "text/plain": [
       "False"
      ]
     },
     "execution_count": 23,
     "metadata": {},
     "output_type": "execute_result"
    }
   ],
   "source": [
    "# 全てTrue?\n",
    "(ndarray > 3).all()"
   ]
  },
  {
   "cell_type": "code",
   "execution_count": 25,
   "id": "e68e1e3d-cea2-48ff-af51-340bd7d10b31",
   "metadata": {},
   "outputs": [
    {
     "data": {
      "text/plain": [
       "True"
      ]
     },
     "execution_count": 25,
     "metadata": {},
     "output_type": "execute_result"
    }
   ],
   "source": [
    "# 1つでもTrue?\n",
    "(ndarray > 3).any()"
   ]
  },
  {
   "cell_type": "code",
   "execution_count": 26,
   "id": "b9fbcef7-4644-428f-b37d-a084e9c0e58c",
   "metadata": {},
   "outputs": [
    {
     "data": {
      "text/plain": [
       "array([False,  True])"
      ]
     },
     "execution_count": 26,
     "metadata": {},
     "output_type": "execute_result"
    }
   ],
   "source": [
    "(ndarray > 3).all(axis=1)"
   ]
  },
  {
   "cell_type": "markdown",
   "id": "7d30ce4d-3901-4b41-b8e3-3e932093a6cd",
   "metadata": {},
   "source": [
    "#### np.unique()"
   ]
  },
  {
   "cell_type": "code",
   "execution_count": 28,
   "id": "74cddbbc-6a77-4199-a351-f86d80ff916a",
   "metadata": {},
   "outputs": [
    {
     "data": {
      "text/plain": [
       "array([1, 1, 2, 3, 4, 2, 3, 4, 5])"
      ]
     },
     "execution_count": 28,
     "metadata": {},
     "output_type": "execute_result"
    }
   ],
   "source": [
    "array = np.array([1, 1, 2, 3, 4, 2, 3, 4, 5])\n",
    "array"
   ]
  },
  {
   "cell_type": "code",
   "execution_count": 29,
   "id": "70ca4d9e-42b8-4583-a6a5-95da0f21b574",
   "metadata": {},
   "outputs": [
    {
     "data": {
      "text/plain": [
       "array([1, 2, 3, 4, 5])"
      ]
     },
     "execution_count": 29,
     "metadata": {},
     "output_type": "execute_result"
    }
   ],
   "source": [
    "np.unique(array)"
   ]
  },
  {
   "cell_type": "code",
   "execution_count": 30,
   "id": "113f6ce9-7769-4822-81a6-dfea36f68a3d",
   "metadata": {},
   "outputs": [
    {
     "data": {
      "text/plain": [
       "(array([1, 2, 3, 4, 5]), array([2, 2, 2, 2, 1]))"
      ]
     },
     "execution_count": 30,
     "metadata": {},
     "output_type": "execute_result"
    }
   ],
   "source": [
    "np.unique(array, return_counts=True)"
   ]
  },
  {
   "cell_type": "markdown",
   "id": "1d818cc3-fb9b-413a-98d8-5c4827d6eaa0",
   "metadata": {},
   "source": [
    "#### np.bincount()"
   ]
  },
  {
   "cell_type": "code",
   "execution_count": 31,
   "id": "70c6d2a8-cd36-422f-8c9a-519f95ca60dd",
   "metadata": {},
   "outputs": [
    {
     "data": {
      "text/plain": [
       "array([0, 2, 2, 2, 2, 1])"
      ]
     },
     "execution_count": 31,
     "metadata": {},
     "output_type": "execute_result"
    }
   ],
   "source": [
    "np.bincount(array)"
   ]
  },
  {
   "cell_type": "markdown",
   "id": "d936b16c-fc30-46a7-9806-a961e0687615",
   "metadata": {},
   "source": [
    "## np.concatenate()とstack()"
   ]
  },
  {
   "cell_type": "code",
   "execution_count": 33,
   "id": "22083a21-9fb1-4f8b-b024-c9c2fcc0e74c",
   "metadata": {},
   "outputs": [
    {
     "data": {
      "text/plain": [
       "array([[ 0,  2,  4],\n",
       "       [ 6,  8, 10],\n",
       "       [12, 14, 16]])"
      ]
     },
     "execution_count": 33,
     "metadata": {},
     "output_type": "execute_result"
    }
   ],
   "source": [
    "ndarray_even = np.arange(0, 18, 2).reshape(3, 3)\n",
    "ndarray_even"
   ]
  },
  {
   "cell_type": "code",
   "execution_count": 44,
   "id": "ecfa4031-ecbb-4042-8c47-1855496ff874",
   "metadata": {},
   "outputs": [
    {
     "data": {
      "text/plain": [
       "array([[ 1,  3,  5],\n",
       "       [ 7,  9, 11],\n",
       "       [13, 15, 17]])"
      ]
     },
     "execution_count": 44,
     "metadata": {},
     "output_type": "execute_result"
    }
   ],
   "source": [
    "ndarray_odd = np.arange(1, 19, 2).reshape(3, 3)\n",
    "ndarray_odd"
   ]
  },
  {
   "cell_type": "code",
   "execution_count": 45,
   "id": "8fefdc46-9738-4687-9f8f-4683256952e9",
   "metadata": {},
   "outputs": [
    {
     "data": {
      "text/plain": [
       "array([[ 0,  2,  4],\n",
       "       [ 6,  8, 10],\n",
       "       [12, 14, 16],\n",
       "       [ 1,  3,  5],\n",
       "       [ 7,  9, 11],\n",
       "       [13, 15, 17]])"
      ]
     },
     "execution_count": 45,
     "metadata": {},
     "output_type": "execute_result"
    }
   ],
   "source": [
    "np.concatenate([ndarray_even, ndarray_odd])"
   ]
  },
  {
   "cell_type": "code",
   "execution_count": 46,
   "id": "240f9612-0447-478b-b864-ad31fff14f87",
   "metadata": {},
   "outputs": [
    {
     "data": {
      "text/plain": [
       "array([[ 0,  2,  4,  1,  3,  5],\n",
       "       [ 6,  8, 10,  7,  9, 11],\n",
       "       [12, 14, 16, 13, 15, 17]])"
      ]
     },
     "execution_count": 46,
     "metadata": {},
     "output_type": "execute_result"
    }
   ],
   "source": [
    "np.concatenate([ndarray_even, ndarray_odd], axis=1)"
   ]
  },
  {
   "cell_type": "code",
   "execution_count": 47,
   "id": "800074fe-dbaf-4db7-95fe-0f62b1e89eda",
   "metadata": {},
   "outputs": [
    {
     "data": {
      "text/plain": [
       "array([[[ 0,  2,  4],\n",
       "        [ 6,  8, 10],\n",
       "        [12, 14, 16]],\n",
       "\n",
       "       [[ 1,  3,  5],\n",
       "        [ 7,  9, 11],\n",
       "        [13, 15, 17]]])"
      ]
     },
     "execution_count": 47,
     "metadata": {},
     "output_type": "execute_result"
    }
   ],
   "source": [
    "np.stack([ndarray_even, ndarray_odd])"
   ]
  },
  {
   "cell_type": "code",
   "execution_count": 48,
   "id": "d70cdc46-81b9-4cdc-b5c9-f9e5818801ac",
   "metadata": {},
   "outputs": [
    {
     "data": {
      "text/plain": [
       "array([[[ 0,  2,  4],\n",
       "        [ 6,  8, 10],\n",
       "        [12, 14, 16]],\n",
       "\n",
       "       [[ 1,  3,  5],\n",
       "        [ 7,  9, 11],\n",
       "        [13, 15, 17]]])"
      ]
     },
     "execution_count": 48,
     "metadata": {},
     "output_type": "execute_result"
    }
   ],
   "source": [
    "_"
   ]
  },
  {
   "cell_type": "code",
   "execution_count": 49,
   "id": "c915e153-36b5-49ba-ae30-13d962bed1dc",
   "metadata": {},
   "outputs": [],
   "source": [
    "stacked_array = _"
   ]
  },
  {
   "cell_type": "code",
   "execution_count": 50,
   "id": "18dbf8e3-de91-4dfc-866c-724b14b59284",
   "metadata": {},
   "outputs": [
    {
     "data": {
      "text/plain": [
       "array([[[ 0,  2,  4],\n",
       "        [ 6,  8, 10],\n",
       "        [12, 14, 16]],\n",
       "\n",
       "       [[ 1,  3,  5],\n",
       "        [ 7,  9, 11],\n",
       "        [13, 15, 17]]])"
      ]
     },
     "execution_count": 50,
     "metadata": {},
     "output_type": "execute_result"
    }
   ],
   "source": [
    "stacked_array"
   ]
  },
  {
   "cell_type": "code",
   "execution_count": 51,
   "id": "2391bb74-a79e-4370-8758-6171f76370c0",
   "metadata": {},
   "outputs": [
    {
     "data": {
      "text/plain": [
       "(2, 3, 3)"
      ]
     },
     "execution_count": 51,
     "metadata": {},
     "output_type": "execute_result"
    }
   ],
   "source": [
    "stacked_array.shape"
   ]
  },
  {
   "cell_type": "code",
   "execution_count": 52,
   "id": "f82e60ef-d17c-4e4f-89a0-e6528b8afc94",
   "metadata": {},
   "outputs": [
    {
     "data": {
      "text/plain": [
       "array([[[ 0,  1],\n",
       "        [ 2,  3],\n",
       "        [ 4,  5]],\n",
       "\n",
       "       [[ 6,  7],\n",
       "        [ 8,  9],\n",
       "        [10, 11]],\n",
       "\n",
       "       [[12, 13],\n",
       "        [14, 15],\n",
       "        [16, 17]]])"
      ]
     },
     "execution_count": 52,
     "metadata": {},
     "output_type": "execute_result"
    }
   ],
   "source": [
    "np.stack([ndarray_even, ndarray_odd], axis=-1)"
   ]
  },
  {
   "cell_type": "markdown",
   "id": "b157d184-3b05-4194-9c6f-68554604b437",
   "metadata": {},
   "source": [
    "## np.transpose .T"
   ]
  },
  {
   "cell_type": "code",
   "execution_count": 57,
   "id": "4821c190-b3e6-4f28-87ce-ef6872f4cbf5",
   "metadata": {},
   "outputs": [
    {
     "data": {
      "text/plain": [
       "array([[-1.00736532,  0.19707413,  0.82444086, -0.68167239],\n",
       "       [ 1.05032079, -1.07383417, -0.98550569, -0.07445885],\n",
       "       [ 0.44112511,  1.13119125, -1.71781262, -1.80649638]])"
      ]
     },
     "execution_count": 57,
     "metadata": {},
     "output_type": "execute_result"
    }
   ],
   "source": [
    "ndarray = np.random.randn(3, 4)\n",
    "ndarray"
   ]
  },
  {
   "cell_type": "code",
   "execution_count": 58,
   "id": "cc81b183-6e0d-4078-97c6-f02056a60dc1",
   "metadata": {},
   "outputs": [
    {
     "data": {
      "text/plain": [
       "(3, 4)"
      ]
     },
     "execution_count": 58,
     "metadata": {},
     "output_type": "execute_result"
    }
   ],
   "source": [
    "ndarray.shape"
   ]
  },
  {
   "cell_type": "code",
   "execution_count": 59,
   "id": "56f748ff-a63b-4617-bf31-85f4796f4676",
   "metadata": {},
   "outputs": [
    {
     "data": {
      "text/plain": [
       "array([[-1.00736532,  1.05032079,  0.44112511],\n",
       "       [ 0.19707413, -1.07383417,  1.13119125],\n",
       "       [ 0.82444086, -0.98550569, -1.71781262],\n",
       "       [-0.68167239, -0.07445885, -1.80649638]])"
      ]
     },
     "execution_count": 59,
     "metadata": {},
     "output_type": "execute_result"
    }
   ],
   "source": [
    "np.transpose(ndarray)"
   ]
  },
  {
   "cell_type": "code",
   "execution_count": 60,
   "id": "e178f9bc-0c78-4dd3-ac60-9b0d4968bea3",
   "metadata": {},
   "outputs": [],
   "source": [
    "transpose_ndarray = _"
   ]
  },
  {
   "cell_type": "code",
   "execution_count": 61,
   "id": "ec0a9117-214a-4211-9b40-dbd87f46753e",
   "metadata": {},
   "outputs": [
    {
     "data": {
      "text/plain": [
       "(4, 3)"
      ]
     },
     "execution_count": 61,
     "metadata": {},
     "output_type": "execute_result"
    }
   ],
   "source": [
    "transpose_ndarray.shape"
   ]
  },
  {
   "cell_type": "code",
   "execution_count": 62,
   "id": "cbdd88f2-58ee-4367-b3ad-03bc56ea996c",
   "metadata": {},
   "outputs": [
    {
     "data": {
      "text/plain": [
       "array([[-1.00736532,  1.05032079,  0.44112511],\n",
       "       [ 0.19707413, -1.07383417,  1.13119125],\n",
       "       [ 0.82444086, -0.98550569, -1.71781262],\n",
       "       [-0.68167239, -0.07445885, -1.80649638]])"
      ]
     },
     "execution_count": 62,
     "metadata": {},
     "output_type": "execute_result"
    }
   ],
   "source": [
    "ndarray.T"
   ]
  },
  {
   "cell_type": "code",
   "execution_count": 63,
   "id": "e95c97fd-0c2e-4755-a1f1-e6af10ab9134",
   "metadata": {},
   "outputs": [],
   "source": [
    "ndarray = np.random.randn(3, 4, 5)"
   ]
  },
  {
   "cell_type": "code",
   "execution_count": 64,
   "id": "8aef2249-e8f1-4cbc-a350-e6221b180140",
   "metadata": {},
   "outputs": [
    {
     "data": {
      "text/plain": [
       "(5, 4, 3)"
      ]
     },
     "execution_count": 64,
     "metadata": {},
     "output_type": "execute_result"
    }
   ],
   "source": [
    "ndarray.T.shape"
   ]
  }
 ],
 "metadata": {
  "kernelspec": {
   "display_name": "Python 3",
   "language": "python",
   "name": "python3"
  },
  "language_info": {
   "codemirror_mode": {
    "name": "ipython",
    "version": 3
   },
   "file_extension": ".py",
   "mimetype": "text/x-python",
   "name": "python",
   "nbconvert_exporter": "python",
   "pygments_lexer": "ipython3",
   "version": "3.8.8"
  }
 },
 "nbformat": 4,
 "nbformat_minor": 5
}
