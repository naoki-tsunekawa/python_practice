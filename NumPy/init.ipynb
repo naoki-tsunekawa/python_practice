{
 "cells": [
  {
   "cell_type": "markdown",
   "id": "f8495915-3d05-4580-92b9-fe6844dfa8bc",
   "metadata": {},
   "source": [
    "## NumPy"
   ]
  },
  {
   "cell_type": "code",
   "execution_count": 1,
   "id": "5f2b4078-5c77-495b-b513-1ed4d2e8b2eb",
   "metadata": {},
   "outputs": [],
   "source": [
    "import numpy as np"
   ]
  },
  {
   "cell_type": "markdown",
   "id": "02d8df4e-747e-4e0b-9f20-4e89c70a26d3",
   "metadata": {},
   "source": [
    "#### numpyのインストール先を表示"
   ]
  },
  {
   "cell_type": "code",
   "execution_count": 2,
   "id": "fa2d5fc7-20c9-4c8a-b85e-4da78732bb2a",
   "metadata": {},
   "outputs": [
    {
     "data": {
      "text/plain": [
       "'/opt/anaconda3/lib/python3.8/site-packages/numpy/__init__.py'"
      ]
     },
     "execution_count": 2,
     "metadata": {},
     "output_type": "execute_result"
    }
   ],
   "source": [
    "np.__file__"
   ]
  }
 ],
 "metadata": {
  "kernelspec": {
   "display_name": "Python 3",
   "language": "python",
   "name": "python3"
  },
  "language_info": {
   "codemirror_mode": {
    "name": "ipython",
    "version": 3
   },
   "file_extension": ".py",
   "mimetype": "text/x-python",
   "name": "python",
   "nbconvert_exporter": "python",
   "pygments_lexer": "ipython3",
   "version": "3.8.8"
  }
 },
 "nbformat": 4,
 "nbformat_minor": 5
}
