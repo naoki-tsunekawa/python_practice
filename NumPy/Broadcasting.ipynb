{
 "cells": [
  {
   "cell_type": "markdown",
   "id": "7d91f0a4-451a-43a0-894c-d9c76b59fb6c",
   "metadata": {},
   "source": [
    "## ndarrayの演算"
   ]
  },
  {
   "cell_type": "code",
   "execution_count": 1,
   "id": "6f224ebd-9165-4ecf-a9ad-8152f5432794",
   "metadata": {},
   "outputs": [],
   "source": [
    "import numpy as np"
   ]
  },
  {
   "cell_type": "code",
   "execution_count": 3,
   "id": "d2dbd7ed-267e-4661-909d-fcbd5831f9a1",
   "metadata": {},
   "outputs": [],
   "source": [
    "array1 = np.array([[1, 2, 3], [4, 5, 6], [7, 8, 9]])\n",
    "array2 = np.array([[1, 2, 3], [4, 5, 6], [7, 8, 9]])"
   ]
  },
  {
   "cell_type": "code",
   "execution_count": 4,
   "id": "ca02cf4f-7a3c-4fc5-af24-68d49fac5fe2",
   "metadata": {},
   "outputs": [
    {
     "data": {
      "text/plain": [
       "array([[1, 2, 3],\n",
       "       [4, 5, 6],\n",
       "       [7, 8, 9]])"
      ]
     },
     "execution_count": 4,
     "metadata": {},
     "output_type": "execute_result"
    }
   ],
   "source": [
    "array1"
   ]
  },
  {
   "cell_type": "code",
   "execution_count": 5,
   "id": "9924d68f-f181-400f-ab19-ee4bfbcd3403",
   "metadata": {},
   "outputs": [
    {
     "data": {
      "text/plain": [
       "array([[1, 2, 3],\n",
       "       [4, 5, 6],\n",
       "       [7, 8, 9]])"
      ]
     },
     "execution_count": 5,
     "metadata": {},
     "output_type": "execute_result"
    }
   ],
   "source": [
    "array2"
   ]
  },
  {
   "cell_type": "code",
   "execution_count": 6,
   "id": "fe6326f6-96a6-4069-b37d-8a121e7713e2",
   "metadata": {},
   "outputs": [
    {
     "data": {
      "text/plain": [
       "array([[ 2,  4,  6],\n",
       "       [ 8, 10, 12],\n",
       "       [14, 16, 18]])"
      ]
     },
     "execution_count": 6,
     "metadata": {},
     "output_type": "execute_result"
    }
   ],
   "source": [
    "array1 + array2"
   ]
  },
  {
   "cell_type": "markdown",
   "id": "121ccde2-8353-48a4-8c72-2f6bc06d3242",
   "metadata": {},
   "source": [
    "#### 要素ごとの演算"
   ]
  },
  {
   "cell_type": "markdown",
   "id": "fc3acb2b-8cb8-4bd2-a8fe-798e39bab8f4",
   "metadata": {},
   "source": [
    "#### listだとこのような演算ができないので注意"
   ]
  },
  {
   "cell_type": "code",
   "execution_count": 7,
   "id": "05642db8-d6b1-41e3-a0f6-0a3ded2a93b1",
   "metadata": {},
   "outputs": [],
   "source": [
    "array1 = np.array([1, 2, 3])\n",
    "array2 = np.array([[1, 2, 3], [4, 5, 6], [7, 8, 9]])"
   ]
  },
  {
   "cell_type": "code",
   "execution_count": 8,
   "id": "43f68245-590a-466f-b289-bcb77b79c3fb",
   "metadata": {},
   "outputs": [
    {
     "data": {
      "text/plain": [
       "array([[ 2,  4,  6],\n",
       "       [ 5,  7,  9],\n",
       "       [ 8, 10, 12]])"
      ]
     },
     "execution_count": 8,
     "metadata": {},
     "output_type": "execute_result"
    }
   ],
   "source": [
    "array1 + array2"
   ]
  },
  {
   "cell_type": "markdown",
   "id": "cceeaffb-bdea-4f86-8dca-efd4f81ca683",
   "metadata": {},
   "source": [
    "#### このように要素が一致しなくても自動で補ってくれる"
   ]
  },
  {
   "cell_type": "markdown",
   "id": "98d89ccc-1731-44ab-bb95-f7883f523924",
   "metadata": {},
   "source": [
    "#### Broadcastingという"
   ]
  },
  {
   "cell_type": "code",
   "execution_count": 9,
   "id": "120a307e-4bd5-4aa3-9644-3ce2e5180bd3",
   "metadata": {},
   "outputs": [],
   "source": [
    "ndarray = np.array([[1, 2, 3], [4, 5, 6], [7, 8, 9]])"
   ]
  },
  {
   "cell_type": "code",
   "execution_count": 10,
   "id": "6533ca80-c79f-4d06-8a92-3b0cb75b6078",
   "metadata": {},
   "outputs": [
    {
     "data": {
      "text/plain": [
       "array([[ 4,  5,  6],\n",
       "       [ 7,  8,  9],\n",
       "       [10, 11, 12]])"
      ]
     },
     "execution_count": 10,
     "metadata": {},
     "output_type": "execute_result"
    }
   ],
   "source": [
    "ndarray + 3"
   ]
  }
 ],
 "metadata": {
  "kernelspec": {
   "display_name": "Python 3",
   "language": "python",
   "name": "python3"
  },
  "language_info": {
   "codemirror_mode": {
    "name": "ipython",
    "version": 3
   },
   "file_extension": ".py",
   "mimetype": "text/x-python",
   "name": "python",
   "nbconvert_exporter": "python",
   "pygments_lexer": "ipython3",
   "version": "3.8.8"
  }
 },
 "nbformat": 4,
 "nbformat_minor": 5
}
