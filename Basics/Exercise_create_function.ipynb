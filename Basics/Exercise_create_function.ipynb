{
 "cells": [
  {
   "cell_type": "markdown",
   "metadata": {},
   "source": [
    "## 演習（Exercises) -関数-\n",
    "##### Q:リストを引数にして、各要素に、'_<その要素のindex番号>.png'をつけたリストを返す関数\n",
    "##### ['filename1','filename2','filename3']が\n",
    "##### ['filename1_0.png',filename2_1.png',filename3_2.png']になる"
   ]
  },
  {
   "cell_type": "code",
   "execution_count": 13,
   "metadata": {},
   "outputs": [],
   "source": [
    "def create_filename(filename_list):\n",
    "    new_filename_list = []\n",
    "    for idx, filename in enumerate(filename_list):\n",
    "        new_filename_list.append(filename + '_' + str(idx) + '.png')\n",
    "    return new_filename_list"
   ]
  },
  {
   "cell_type": "code",
   "execution_count": 14,
   "metadata": {},
   "outputs": [
    {
     "data": {
      "text/plain": [
       "['filename1_0.png', 'filename2_1.png', 'filename3_2.png']"
      ]
     },
     "execution_count": 14,
     "metadata": {},
     "output_type": "execute_result"
    }
   ],
   "source": [
    "filename_list = ['filename1','filename2','filename3']\n",
    "create_filename(filename_list)"
   ]
  },
  {
   "cell_type": "markdown",
   "metadata": {},
   "source": [
    "【解答】"
   ]
  },
  {
   "cell_type": "code",
   "execution_count": 38,
   "metadata": {},
   "outputs": [],
   "source": [
    "def add_extension(filename_list, extension='.png'):\n",
    "    \"\"\"\n",
    "    各要素に、'_<その要素のindex番号><extension>'を付けたリストを返す\n",
    "    ['filename1','filename2','filename3'] ==>> ['filename1_0.png', 'filename2_1.png', 'filename3_2.png']\n",
    "    \n",
    "    Parameters\n",
    "    --------------------\n",
    "        filename_list: ファイル名のリスト\n",
    "        extension: 拡張子\n",
    "    Return\n",
    "    --------------------\n",
    "        result_list: filename_listの各要素に、'_<その要素のindex番号><extension>'を付けたリスト\n",
    "    \"\"\"\n",
    "    \n",
    "#     result_list = []\n",
    "#     for idx, filename in enumerate(filename_list):\n",
    "#         result_list.append(filename + '_' + str(idx) + '.png')\n",
    "#         result_list.append('{}_{}.png'.format(filename, idx))\n",
    "    \n",
    "    return ['{}_{}{}'.format(filename, idx, extension) for idx, filename in enumerate(filename_list)]\n",
    "        \n",
    "#     return result_list"
   ]
  },
  {
   "cell_type": "code",
   "execution_count": 39,
   "metadata": {},
   "outputs": [],
   "source": [
    "x = lambda filename_list, extension='.png': ['{}_{}{}'.format(filename, idx, extension) for idx, filename in enumerate(filename_list)]"
   ]
  },
  {
   "cell_type": "code",
   "execution_count": 42,
   "metadata": {},
   "outputs": [
    {
     "data": {
      "text/plain": [
       "['filename1_0.jpg', 'filename2_1.jpg', 'filename3_2.jpg']"
      ]
     },
     "execution_count": 42,
     "metadata": {},
     "output_type": "execute_result"
    }
   ],
   "source": [
    "file_list = ['filename1','filename2','filename3']\n",
    "add_extension(file_list, '.jpg')"
   ]
  },
  {
   "cell_type": "code",
   "execution_count": 41,
   "metadata": {},
   "outputs": [
    {
     "data": {
      "text/plain": [
       "['filename1_0.png', 'filename2_1.png', 'filename3_2.png']"
      ]
     },
     "execution_count": 41,
     "metadata": {},
     "output_type": "execute_result"
    }
   ],
   "source": [
    "x(file_list)"
   ]
  },
  {
   "cell_type": "code",
   "execution_count": null,
   "metadata": {},
   "outputs": [],
   "source": []
  }
 ],
 "metadata": {
  "kernelspec": {
   "display_name": "Python 3",
   "language": "python",
   "name": "python3"
  },
  "language_info": {
   "codemirror_mode": {
    "name": "ipython",
    "version": 3
   },
   "file_extension": ".py",
   "mimetype": "text/x-python",
   "name": "python",
   "nbconvert_exporter": "python",
   "pygments_lexer": "ipython3",
   "version": "3.7.6"
  }
 },
 "nbformat": 4,
 "nbformat_minor": 4
}
