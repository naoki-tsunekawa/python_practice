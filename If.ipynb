{
 "cells": [
  {
   "cell_type": "markdown",
   "metadata": {},
   "source": [
    "## If文"
   ]
  },
  {
   "cell_type": "code",
   "execution_count": 13,
   "metadata": {},
   "outputs": [],
   "source": [
    "a = 2"
   ]
  },
  {
   "cell_type": "code",
   "execution_count": 14,
   "metadata": {},
   "outputs": [
    {
     "name": "stdout",
     "output_type": "stream",
     "text": [
      "a is two\n"
     ]
    }
   ],
   "source": [
    "if a == 2:\n",
    "    print('a is two')\n",
    "else:\n",
    "    print('a is NOT tow')"
   ]
  },
  {
   "cell_type": "code",
   "execution_count": 15,
   "metadata": {},
   "outputs": [
    {
     "name": "stdout",
     "output_type": "stream",
     "text": [
      "a is 2\n"
     ]
    }
   ],
   "source": [
    "if a == 2:\n",
    "    print('a is 2')\n",
    "elif a <= 1:\n",
    "    print('a is less than and equal to 1')\n",
    "else:\n",
    "    print('a is something else')"
   ]
  },
  {
   "cell_type": "code",
   "execution_count": 16,
   "metadata": {},
   "outputs": [
    {
     "name": "stdout",
     "output_type": "stream",
     "text": [
      "a is 2\n"
     ]
    }
   ],
   "source": [
    "print('a is 2') if a == 2 else print('a is NOT 2') "
   ]
  },
  {
   "cell_type": "markdown",
   "metadata": {},
   "source": [
    "(Trueの時)if a == 2 else (Falseの時) "
   ]
  },
  {
   "cell_type": "markdown",
   "metadata": {},
   "source": [
    "1行で書くのは読みにくいのでできるだけ書かない"
   ]
  },
  {
   "cell_type": "markdown",
   "metadata": {},
   "source": [
    "1行でかくif文はlambda関数でよく用いられるがその他はあまり使わないのが一般的"
   ]
  }
 ],
 "metadata": {
  "kernelspec": {
   "display_name": "Python 3",
   "language": "python",
   "name": "python3"
  },
  "language_info": {
   "codemirror_mode": {
    "name": "ipython",
    "version": 3
   },
   "file_extension": ".py",
   "mimetype": "text/x-python",
   "name": "python",
   "nbconvert_exporter": "python",
   "pygments_lexer": "ipython3",
   "version": "3.7.6"
  }
 },
 "nbformat": 4,
 "nbformat_minor": 4
}
