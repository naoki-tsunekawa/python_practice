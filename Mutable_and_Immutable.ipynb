{
 "cells": [
  {
   "cell_type": "markdown",
   "metadata": {},
   "source": [
    "## mutable vs immutable\n",
    "mutable : List, Set, Dictinary"
   ]
  },
  {
   "cell_type": "markdown",
   "metadata": {},
   "source": [
    "immutable: Integer, Float, Boolean, String, Tuple"
   ]
  },
  {
   "cell_type": "markdown",
   "metadata": {},
   "source": [
    "### mutable"
   ]
  },
  {
   "cell_type": "code",
   "execution_count": 1,
   "metadata": {},
   "outputs": [
    {
     "name": "stdout",
     "output_type": "stream",
     "text": [
      "list_b : [1, 2, 3, 4]\n"
     ]
    }
   ],
   "source": [
    "def append_elem(list_param, elem=0):\n",
    "    \n",
    "    list_param.append(elem)\n",
    "    \n",
    "    return list_param\n",
    "\n",
    "list_a = [1, 2, 3]\n",
    "list_b = append_elem(list_a, elem=4)\n",
    "# list_bは当然 list_aにelemを追加したリスト\n",
    "print('list_b : {}'.format(list_b))\n",
    "# じゃぁlist_aは？\n",
    "# print('list_a : {}'.format(list_a))"
   ]
  },
  {
   "cell_type": "markdown",
   "metadata": {},
   "source": [
    "### immutable"
   ]
  },
  {
   "cell_type": "code",
   "execution_count": 2,
   "metadata": {},
   "outputs": [
    {
     "name": "stdout",
     "output_type": "stream",
     "text": [
      "7\n",
      "4\n"
     ]
    }
   ],
   "source": [
    "def add_num(param, num=0):\n",
    "    \n",
    "    param += num\n",
    "    \n",
    "    return param\n",
    "\n",
    "num_a = 4\n",
    "num_b = add_num(num_a, num=3)\n",
    "# 当然num_bは\n",
    "print(num_b)\n",
    "# じゃぁ元のnum_aは？\n",
    "print(num_a)"
   ]
  },
  {
   "cell_type": "code",
   "execution_count": 3,
   "metadata": {},
   "outputs": [
    {
     "name": "stdout",
     "output_type": "stream",
     "text": [
      "original id: 139890176846816\n",
      "updated id: 139890176846816\n",
      "['hello', 'world']\n"
     ]
    }
   ],
   "source": [
    "# mutableオブジェクト\n",
    "a = ['hello']\n",
    "print('original id: {}'.format(id(a)))\n",
    "# 変更しても\n",
    "a += ['world']\n",
    "# idは変わっていない　もとのメモリは上書きされている\n",
    "print('updated id: {}'.format(id(a)))\n",
    "print(a)"
   ]
  },
  {
   "cell_type": "code",
   "execution_count": 4,
   "metadata": {},
   "outputs": [
    {
     "name": "stdout",
     "output_type": "stream",
     "text": [
      "original id: 139890177012464\n",
      "updated id: 139890177011824\n",
      "hello world\n"
     ]
    }
   ],
   "source": [
    "# immutableオブジェクト\n",
    "a = 'hello'\n",
    "print('original id: {}'.format(id(a)))\n",
    "# 変更すると\n",
    "a += ' world'\n",
    "# idが変わっている・・・！　もとのメモリは上書きされていない\n",
    "print('updated id: {}'.format(id(a)))\n",
    "print(a)"
   ]
  },
  {
   "cell_type": "code",
   "execution_count": 5,
   "metadata": {},
   "outputs": [
    {
     "name": "stdout",
     "output_type": "stream",
     "text": [
      "139890268300144\n",
      "139890268300144\n"
     ]
    }
   ],
   "source": [
    "# Pythonは基本参照渡し\n",
    "def print_id(n):\n",
    "    print(id(n))\n",
    "    \n",
    "a = 'test'\n",
    "# 表示されるIDは同じ．つまり参照が渡されている\n",
    "print(id(a))\n",
    "print_id(a)\n",
    "# しかし，immutableでは元のメモリを更新できないので，値渡しのような挙動をとる"
   ]
  }
 ],
 "metadata": {
  "kernelspec": {
   "display_name": "Python 3",
   "language": "python",
   "name": "python3"
  },
  "language_info": {
   "codemirror_mode": {
    "name": "ipython",
    "version": 3
   },
   "file_extension": ".py",
   "mimetype": "text/x-python",
   "name": "python",
   "nbconvert_exporter": "python",
   "pygments_lexer": "ipython3",
   "version": "3.7.6"
  }
 },
 "nbformat": 4,
 "nbformat_minor": 4
}
