{
 "cells": [
  {
   "cell_type": "markdown",
   "metadata": {},
   "source": [
    "## 関数(Function)"
   ]
  },
  {
   "cell_type": "code",
   "execution_count": 1,
   "metadata": {},
   "outputs": [],
   "source": [
    "def function_name(param1, param2):\n",
    "    '''\n",
    "    This function prints something\n",
    "    \n",
    "    Parameters\n",
    "    ---------------------\n",
    "        param1: explain param1\n",
    "        param2: explain param2\n",
    "    \n",
    "    Returns\n",
    "    ---------------------\n",
    "        strings: param1 and param2\n",
    "    '''\n",
    "    print('Do something for {} and {}'.format(param1, param2))\n",
    "    return param1 + ' and ' + param2"
   ]
  },
  {
   "cell_type": "code",
   "execution_count": null,
   "metadata": {},
   "outputs": [],
   "source": []
  }
 ],
 "metadata": {
  "kernelspec": {
   "display_name": "Python 3",
   "language": "python",
   "name": "python3"
  },
  "language_info": {
   "codemirror_mode": {
    "name": "ipython",
    "version": 3
   },
   "file_extension": ".py",
   "mimetype": "text/x-python",
   "name": "python",
   "nbconvert_exporter": "python",
   "pygments_lexer": "ipython3",
   "version": "3.7.6"
  }
 },
 "nbformat": 4,
 "nbformat_minor": 4
}
